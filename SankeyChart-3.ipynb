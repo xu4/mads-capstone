{
 "cells": [
  {
   "cell_type": "code",
   "execution_count": 1,
   "id": "environmental-shanghai",
   "metadata": {},
   "outputs": [
    {
     "name": "stdout",
     "output_type": "stream",
     "text": [
      "Requirement already satisfied: plotly in /opt/conda/lib/python3.7/site-packages (5.7.0)\r\n",
      "Requirement already satisfied: six in /opt/conda/lib/python3.7/site-packages (from plotly) (1.15.0)\r\n",
      "Requirement already satisfied: tenacity>=6.2.0 in /opt/conda/lib/python3.7/site-packages (from plotly) (8.0.1)\r\n"
     ]
    }
   ],
   "source": [
    "!pip install plotly"
   ]
  },
  {
   "cell_type": "code",
   "execution_count": 2,
   "id": "toxic-train",
   "metadata": {},
   "outputs": [],
   "source": [
    "import pandas as pd\n",
    "import numpy as np\n",
    "import matplotlib.pyplot as plt\n",
    "import seaborn as sns\n",
    "from sklearn.preprocessing import MinMaxScaler\n",
    "from sklearn import metrics\n",
    "import plotly.graph_objects as go"
   ]
  },
  {
   "cell_type": "code",
   "execution_count": 3,
   "id": "interpreted-saskatchewan",
   "metadata": {},
   "outputs": [
    {
     "data": {
      "text/html": [
       "<div>\n",
       "<style scoped>\n",
       "    .dataframe tbody tr th:only-of-type {\n",
       "        vertical-align: middle;\n",
       "    }\n",
       "\n",
       "    .dataframe tbody tr th {\n",
       "        vertical-align: top;\n",
       "    }\n",
       "\n",
       "    .dataframe thead th {\n",
       "        text-align: right;\n",
       "    }\n",
       "</style>\n",
       "<table border=\"1\" class=\"dataframe\">\n",
       "  <thead>\n",
       "    <tr style=\"text-align: right;\">\n",
       "      <th></th>\n",
       "      <th>donor_id</th>\n",
       "      <th>donor_name</th>\n",
       "      <th>structure_id</th>\n",
       "      <th>structure_acronym</th>\n",
       "      <th>ihc_a_syn</th>\n",
       "      <th>ihc_tau2_ffpe</th>\n",
       "      <th>ihc_at8_ffpe</th>\n",
       "      <th>ihc_at8</th>\n",
       "      <th>ihc_ptdp_43_ffpe</th>\n",
       "      <th>ihc_a_beta_ffpe</th>\n",
       "      <th>...</th>\n",
       "      <th>il_4_pg_per_mg</th>\n",
       "      <th>rantes_pg_per_mg</th>\n",
       "      <th>ab40_pg_per_mg</th>\n",
       "      <th>a_syn_pg_per_mg</th>\n",
       "      <th>ifn_g_pg_per_mg</th>\n",
       "      <th>mcp_1_pg_per_mg</th>\n",
       "      <th>bdnf_pg_per_mg</th>\n",
       "      <th>mip_1a_pg_per_mg</th>\n",
       "      <th>il_7_pg_per_mg</th>\n",
       "      <th>ab42_pg_per_mg</th>\n",
       "    </tr>\n",
       "  </thead>\n",
       "  <tbody>\n",
       "    <tr>\n",
       "      <th>0</th>\n",
       "      <td>309335467</td>\n",
       "      <td>H14.09.030</td>\n",
       "      <td>10557</td>\n",
       "      <td>FWM</td>\n",
       "      <td>0.000078</td>\n",
       "      <td>0.002358</td>\n",
       "      <td>0.001137</td>\n",
       "      <td>0.000110</td>\n",
       "      <td>0.001259</td>\n",
       "      <td>0.008335</td>\n",
       "      <td>...</td>\n",
       "      <td>2.68</td>\n",
       "      <td>15.99</td>\n",
       "      <td>0.736100</td>\n",
       "      <td>0.122288</td>\n",
       "      <td>1.47</td>\n",
       "      <td>20.78</td>\n",
       "      <td>5.03736</td>\n",
       "      <td>9.38</td>\n",
       "      <td>11.78</td>\n",
       "      <td>523.292251</td>\n",
       "    </tr>\n",
       "    <tr>\n",
       "      <th>1</th>\n",
       "      <td>309335480</td>\n",
       "      <td>H14.09.043</td>\n",
       "      <td>10208</td>\n",
       "      <td>PCx</td>\n",
       "      <td>0.000063</td>\n",
       "      <td>0.002762</td>\n",
       "      <td>0.001272</td>\n",
       "      <td>0.000164</td>\n",
       "      <td>0.002354</td>\n",
       "      <td>0.005047</td>\n",
       "      <td>...</td>\n",
       "      <td>3.02</td>\n",
       "      <td>24.04</td>\n",
       "      <td>0.669094</td>\n",
       "      <td>0.111962</td>\n",
       "      <td>1.44</td>\n",
       "      <td>40.40</td>\n",
       "      <td>4.95462</td>\n",
       "      <td>8.10</td>\n",
       "      <td>45.02</td>\n",
       "      <td>81.493875</td>\n",
       "    </tr>\n",
       "    <tr>\n",
       "      <th>2</th>\n",
       "      <td>309335493</td>\n",
       "      <td>H14.09.056</td>\n",
       "      <td>10557</td>\n",
       "      <td>FWM</td>\n",
       "      <td>0.000064</td>\n",
       "      <td>0.003468</td>\n",
       "      <td>0.013787</td>\n",
       "      <td>0.016023</td>\n",
       "      <td>0.001708</td>\n",
       "      <td>0.007365</td>\n",
       "      <td>...</td>\n",
       "      <td>0.80</td>\n",
       "      <td>129.80</td>\n",
       "      <td>0.736100</td>\n",
       "      <td>0.091084</td>\n",
       "      <td>0.54</td>\n",
       "      <td>46.88</td>\n",
       "      <td>5.88409</td>\n",
       "      <td>27.00</td>\n",
       "      <td>15.82</td>\n",
       "      <td>470.734514</td>\n",
       "    </tr>\n",
       "    <tr>\n",
       "      <th>3</th>\n",
       "      <td>326765668</td>\n",
       "      <td>H14.09.081</td>\n",
       "      <td>10557</td>\n",
       "      <td>FWM</td>\n",
       "      <td>0.000049</td>\n",
       "      <td>0.003035</td>\n",
       "      <td>0.001707</td>\n",
       "      <td>0.000137</td>\n",
       "      <td>0.001729</td>\n",
       "      <td>0.004046</td>\n",
       "      <td>...</td>\n",
       "      <td>1.30</td>\n",
       "      <td>15.16</td>\n",
       "      <td>8.995575</td>\n",
       "      <td>0.054076</td>\n",
       "      <td>0.76</td>\n",
       "      <td>10.34</td>\n",
       "      <td>16.13524</td>\n",
       "      <td>8.06</td>\n",
       "      <td>24.22</td>\n",
       "      <td>568.368571</td>\n",
       "    </tr>\n",
       "    <tr>\n",
       "      <th>4</th>\n",
       "      <td>326765668</td>\n",
       "      <td>H14.09.081</td>\n",
       "      <td>10235</td>\n",
       "      <td>TCx</td>\n",
       "      <td>0.000080</td>\n",
       "      <td>0.002088</td>\n",
       "      <td>0.004489</td>\n",
       "      <td>0.000062</td>\n",
       "      <td>0.001513</td>\n",
       "      <td>0.015809</td>\n",
       "      <td>...</td>\n",
       "      <td>0.00</td>\n",
       "      <td>17.90</td>\n",
       "      <td>95.931000</td>\n",
       "      <td>0.030000</td>\n",
       "      <td>1.22</td>\n",
       "      <td>21.38</td>\n",
       "      <td>0.03000</td>\n",
       "      <td>10.52</td>\n",
       "      <td>23.72</td>\n",
       "      <td>438.863263</td>\n",
       "    </tr>\n",
       "  </tbody>\n",
       "</table>\n",
       "<p>5 rows × 33 columns</p>\n",
       "</div>"
      ],
      "text/plain": [
       "    donor_id  donor_name  structure_id structure_acronym  ihc_a_syn  \\\n",
       "0  309335467  H14.09.030         10557               FWM   0.000078   \n",
       "1  309335480  H14.09.043         10208               PCx   0.000063   \n",
       "2  309335493  H14.09.056         10557               FWM   0.000064   \n",
       "3  326765668  H14.09.081         10557               FWM   0.000049   \n",
       "4  326765668  H14.09.081         10235               TCx   0.000080   \n",
       "\n",
       "   ihc_tau2_ffpe  ihc_at8_ffpe   ihc_at8  ihc_ptdp_43_ffpe  ihc_a_beta_ffpe  \\\n",
       "0       0.002358      0.001137  0.000110          0.001259         0.008335   \n",
       "1       0.002762      0.001272  0.000164          0.002354         0.005047   \n",
       "2       0.003468      0.013787  0.016023          0.001708         0.007365   \n",
       "3       0.003035      0.001707  0.000137          0.001729         0.004046   \n",
       "4       0.002088      0.004489  0.000062          0.001513         0.015809   \n",
       "\n",
       "   ...  il_4_pg_per_mg  rantes_pg_per_mg  ab40_pg_per_mg  a_syn_pg_per_mg  \\\n",
       "0  ...            2.68             15.99        0.736100         0.122288   \n",
       "1  ...            3.02             24.04        0.669094         0.111962   \n",
       "2  ...            0.80            129.80        0.736100         0.091084   \n",
       "3  ...            1.30             15.16        8.995575         0.054076   \n",
       "4  ...            0.00             17.90       95.931000         0.030000   \n",
       "\n",
       "   ifn_g_pg_per_mg  mcp_1_pg_per_mg  bdnf_pg_per_mg  mip_1a_pg_per_mg  \\\n",
       "0             1.47            20.78         5.03736              9.38   \n",
       "1             1.44            40.40         4.95462              8.10   \n",
       "2             0.54            46.88         5.88409             27.00   \n",
       "3             0.76            10.34        16.13524              8.06   \n",
       "4             1.22            21.38         0.03000             10.52   \n",
       "\n",
       "   il_7_pg_per_mg  ab42_pg_per_mg  \n",
       "0           11.78      523.292251  \n",
       "1           45.02       81.493875  \n",
       "2           15.82      470.734514  \n",
       "3           24.22      568.368571  \n",
       "4           23.72      438.863263  \n",
       "\n",
       "[5 rows x 33 columns]"
      ]
     },
     "execution_count": 3,
     "metadata": {},
     "output_type": "execute_result"
    }
   ],
   "source": [
    "metrics_df = pd.read_csv('OrigFiles/ProteinAndPathologyQuantifications.csv')\n",
    "donor_df = pd.read_csv('OrigFiles/DonorInformation.csv')  \n",
    "metrics_df.head()"
   ]
  },
  {
   "cell_type": "code",
   "execution_count": 5,
   "id": "typical-governor",
   "metadata": {},
   "outputs": [
    {
     "data": {
      "text/html": [
       "<div>\n",
       "<style scoped>\n",
       "    .dataframe tbody tr th:only-of-type {\n",
       "        vertical-align: middle;\n",
       "    }\n",
       "\n",
       "    .dataframe tbody tr th {\n",
       "        vertical-align: top;\n",
       "    }\n",
       "\n",
       "    .dataframe thead th {\n",
       "        text-align: right;\n",
       "    }\n",
       "</style>\n",
       "<table border=\"1\" class=\"dataframe\">\n",
       "  <thead>\n",
       "    <tr style=\"text-align: right;\">\n",
       "      <th></th>\n",
       "      <th>donor_id_x</th>\n",
       "      <th>donor_name</th>\n",
       "      <th>structure_id</th>\n",
       "      <th>structure_acronym</th>\n",
       "      <th>ihc_a_syn</th>\n",
       "      <th>ihc_tau2_ffpe</th>\n",
       "      <th>ihc_at8_ffpe</th>\n",
       "      <th>ihc_at8</th>\n",
       "      <th>ihc_ptdp_43_ffpe</th>\n",
       "      <th>ihc_a_beta_ffpe</th>\n",
       "      <th>...</th>\n",
       "      <th>num_tbi_w_loc</th>\n",
       "      <th>dsm_iv_clinical_diagnosis</th>\n",
       "      <th>control_set</th>\n",
       "      <th>nincds_arda_diagnosis</th>\n",
       "      <th>ever_tbi_w_loc</th>\n",
       "      <th>race</th>\n",
       "      <th>hispanic</th>\n",
       "      <th>act_demented</th>\n",
       "      <th>braak</th>\n",
       "      <th>nia_reagan</th>\n",
       "    </tr>\n",
       "  </thead>\n",
       "  <tbody>\n",
       "    <tr>\n",
       "      <th>0</th>\n",
       "      <td>309335467</td>\n",
       "      <td>H14.09.030</td>\n",
       "      <td>10557</td>\n",
       "      <td>FWM</td>\n",
       "      <td>0.000078</td>\n",
       "      <td>0.002358</td>\n",
       "      <td>0.001137</td>\n",
       "      <td>0.000110</td>\n",
       "      <td>0.001259</td>\n",
       "      <td>0.008335</td>\n",
       "      <td>...</td>\n",
       "      <td>0</td>\n",
       "      <td>No Dementia</td>\n",
       "      <td>3</td>\n",
       "      <td>No Dementia</td>\n",
       "      <td>N</td>\n",
       "      <td>White</td>\n",
       "      <td>Not Hispanic</td>\n",
       "      <td>No Dementia</td>\n",
       "      <td>3</td>\n",
       "      <td>2</td>\n",
       "    </tr>\n",
       "    <tr>\n",
       "      <th>1</th>\n",
       "      <td>309335480</td>\n",
       "      <td>H14.09.043</td>\n",
       "      <td>10208</td>\n",
       "      <td>PCx</td>\n",
       "      <td>0.000063</td>\n",
       "      <td>0.002762</td>\n",
       "      <td>0.001272</td>\n",
       "      <td>0.000164</td>\n",
       "      <td>0.002354</td>\n",
       "      <td>0.005047</td>\n",
       "      <td>...</td>\n",
       "      <td>1</td>\n",
       "      <td>Multiple Etiologies</td>\n",
       "      <td>9</td>\n",
       "      <td>Possible Alzheimer'S Disease</td>\n",
       "      <td>Y</td>\n",
       "      <td>White</td>\n",
       "      <td>Not Hispanic</td>\n",
       "      <td>Dementia</td>\n",
       "      <td>0</td>\n",
       "      <td>0</td>\n",
       "    </tr>\n",
       "    <tr>\n",
       "      <th>2</th>\n",
       "      <td>309335493</td>\n",
       "      <td>H14.09.056</td>\n",
       "      <td>10557</td>\n",
       "      <td>FWM</td>\n",
       "      <td>0.000064</td>\n",
       "      <td>0.003468</td>\n",
       "      <td>0.013787</td>\n",
       "      <td>0.016023</td>\n",
       "      <td>0.001708</td>\n",
       "      <td>0.007365</td>\n",
       "      <td>...</td>\n",
       "      <td>0</td>\n",
       "      <td>Alzheimer's Disease Type</td>\n",
       "      <td>18</td>\n",
       "      <td>Possible Alzheimer'S Disease</td>\n",
       "      <td>N</td>\n",
       "      <td>White</td>\n",
       "      <td>Not Hispanic</td>\n",
       "      <td>Dementia</td>\n",
       "      <td>5</td>\n",
       "      <td>3</td>\n",
       "    </tr>\n",
       "    <tr>\n",
       "      <th>3</th>\n",
       "      <td>326765668</td>\n",
       "      <td>H14.09.081</td>\n",
       "      <td>10557</td>\n",
       "      <td>FWM</td>\n",
       "      <td>0.000049</td>\n",
       "      <td>0.003035</td>\n",
       "      <td>0.001707</td>\n",
       "      <td>0.000137</td>\n",
       "      <td>0.001729</td>\n",
       "      <td>0.004046</td>\n",
       "      <td>...</td>\n",
       "      <td>1</td>\n",
       "      <td>No Dementia</td>\n",
       "      <td>35</td>\n",
       "      <td>No Dementia</td>\n",
       "      <td>Y</td>\n",
       "      <td>White</td>\n",
       "      <td>Not Hispanic</td>\n",
       "      <td>No Dementia</td>\n",
       "      <td>3</td>\n",
       "      <td>2</td>\n",
       "    </tr>\n",
       "    <tr>\n",
       "      <th>4</th>\n",
       "      <td>326765668</td>\n",
       "      <td>H14.09.081</td>\n",
       "      <td>10235</td>\n",
       "      <td>TCx</td>\n",
       "      <td>0.000080</td>\n",
       "      <td>0.002088</td>\n",
       "      <td>0.004489</td>\n",
       "      <td>0.000062</td>\n",
       "      <td>0.001513</td>\n",
       "      <td>0.015809</td>\n",
       "      <td>...</td>\n",
       "      <td>1</td>\n",
       "      <td>No Dementia</td>\n",
       "      <td>35</td>\n",
       "      <td>No Dementia</td>\n",
       "      <td>Y</td>\n",
       "      <td>White</td>\n",
       "      <td>Not Hispanic</td>\n",
       "      <td>No Dementia</td>\n",
       "      <td>3</td>\n",
       "      <td>2</td>\n",
       "    </tr>\n",
       "  </tbody>\n",
       "</table>\n",
       "<p>5 rows × 52 columns</p>\n",
       "</div>"
      ],
      "text/plain": [
       "   donor_id_x  donor_name  structure_id structure_acronym  ihc_a_syn  \\\n",
       "0   309335467  H14.09.030         10557               FWM   0.000078   \n",
       "1   309335480  H14.09.043         10208               PCx   0.000063   \n",
       "2   309335493  H14.09.056         10557               FWM   0.000064   \n",
       "3   326765668  H14.09.081         10557               FWM   0.000049   \n",
       "4   326765668  H14.09.081         10235               TCx   0.000080   \n",
       "\n",
       "   ihc_tau2_ffpe  ihc_at8_ffpe   ihc_at8  ihc_ptdp_43_ffpe  ihc_a_beta_ffpe  \\\n",
       "0       0.002358      0.001137  0.000110          0.001259         0.008335   \n",
       "1       0.002762      0.001272  0.000164          0.002354         0.005047   \n",
       "2       0.003468      0.013787  0.016023          0.001708         0.007365   \n",
       "3       0.003035      0.001707  0.000137          0.001729         0.004046   \n",
       "4       0.002088      0.004489  0.000062          0.001513         0.015809   \n",
       "\n",
       "   ...  num_tbi_w_loc  dsm_iv_clinical_diagnosis  control_set  \\\n",
       "0  ...              0                No Dementia            3   \n",
       "1  ...              1        Multiple Etiologies            9   \n",
       "2  ...              0   Alzheimer's Disease Type           18   \n",
       "3  ...              1                No Dementia           35   \n",
       "4  ...              1                No Dementia           35   \n",
       "\n",
       "          nincds_arda_diagnosis  ever_tbi_w_loc   race      hispanic  \\\n",
       "0                   No Dementia               N  White  Not Hispanic   \n",
       "1  Possible Alzheimer'S Disease               Y  White  Not Hispanic   \n",
       "2  Possible Alzheimer'S Disease               N  White  Not Hispanic   \n",
       "3                   No Dementia               Y  White  Not Hispanic   \n",
       "4                   No Dementia               Y  White  Not Hispanic   \n",
       "\n",
       "   act_demented  braak  nia_reagan  \n",
       "0   No Dementia      3           2  \n",
       "1      Dementia      0           0  \n",
       "2      Dementia      5           3  \n",
       "3   No Dementia      3           2  \n",
       "4   No Dementia      3           2  \n",
       "\n",
       "[5 rows x 52 columns]"
      ]
     },
     "execution_count": 5,
     "metadata": {},
     "output_type": "execute_result"
    }
   ],
   "source": [
    "metrics_donor_df = pd.merge(metrics_df, donor_df,  how='left', left_on='donor_name', right_on = 'name')\n",
    "metrics_donor_df.head()"
   ]
  },
  {
   "cell_type": "code",
   "execution_count": 6,
   "id": "annoying-stretch",
   "metadata": {},
   "outputs": [],
   "source": [
    "scaler = MinMaxScaler()\n",
    "scaled_at8= scaler.fit_transform(metrics_donor_df['ihc_at8_ffpe'].to_frame())\n",
    "result_at8 = pd.cut(scaled_at8.ravel(), bins=[0.0, 0.2, 0.4, 0.6, 0.8, 1.00], right=True, labels=False).astype(int)+1\n",
    "scaled_abeta= scaler.fit_transform(metrics_donor_df['ihc_a_beta_ffpe'].to_frame())\n",
    "result_abeta = pd.cut(scaled_abeta.ravel(), bins=[0.0, 0.2, 0.4, 0.6, 0.8, 1.00], right=True, labels=False).astype(int)+1"
   ]
  },
  {
   "cell_type": "code",
   "execution_count": 9,
   "id": "dress-african",
   "metadata": {},
   "outputs": [
    {
     "data": {
      "text/html": [
       "<div>\n",
       "<style scoped>\n",
       "    .dataframe tbody tr th:only-of-type {\n",
       "        vertical-align: middle;\n",
       "    }\n",
       "\n",
       "    .dataframe tbody tr th {\n",
       "        vertical-align: top;\n",
       "    }\n",
       "\n",
       "    .dataframe thead th {\n",
       "        text-align: right;\n",
       "    }\n",
       "</style>\n",
       "<table border=\"1\" class=\"dataframe\">\n",
       "  <thead>\n",
       "    <tr style=\"text-align: right;\">\n",
       "      <th></th>\n",
       "      <th>cerad</th>\n",
       "      <th>act_demented</th>\n",
       "      <th>a_beta</th>\n",
       "      <th>at8</th>\n",
       "    </tr>\n",
       "  </thead>\n",
       "  <tbody>\n",
       "    <tr>\n",
       "      <th>0</th>\n",
       "      <td>3</td>\n",
       "      <td>0</td>\n",
       "      <td>1</td>\n",
       "      <td>1</td>\n",
       "    </tr>\n",
       "    <tr>\n",
       "      <th>1</th>\n",
       "      <td>0</td>\n",
       "      <td>1</td>\n",
       "      <td>1</td>\n",
       "      <td>1</td>\n",
       "    </tr>\n",
       "    <tr>\n",
       "      <th>2</th>\n",
       "      <td>3</td>\n",
       "      <td>1</td>\n",
       "      <td>1</td>\n",
       "      <td>2</td>\n",
       "    </tr>\n",
       "    <tr>\n",
       "      <th>3</th>\n",
       "      <td>2</td>\n",
       "      <td>0</td>\n",
       "      <td>1</td>\n",
       "      <td>1</td>\n",
       "    </tr>\n",
       "    <tr>\n",
       "      <th>4</th>\n",
       "      <td>2</td>\n",
       "      <td>0</td>\n",
       "      <td>2</td>\n",
       "      <td>1</td>\n",
       "    </tr>\n",
       "  </tbody>\n",
       "</table>\n",
       "</div>"
      ],
      "text/plain": [
       "   cerad  act_demented  a_beta  at8\n",
       "0      3             0       1    1\n",
       "1      0             1       1    1\n",
       "2      3             1       1    2\n",
       "3      2             0       1    1\n",
       "4      2             0       2    1"
      ]
     },
     "execution_count": 9,
     "metadata": {},
     "output_type": "execute_result"
    }
   ],
   "source": [
    "source_df = metrics_donor_df[['cerad',  'act_demented']]\n",
    "source_df['a_beta'] = result_abeta\n",
    "source_df['at8'] = result_at8\n",
    "source_df['act_demented']=  source_df['act_demented'].map({'Dementia': 1, 'No Dementia': 0})\n",
    "source_df = source_df[(source_df['a_beta']>0) & (source_df['at8']>0)]\n",
    "source_df.head()\n",
    "#print(source_df.shape)"
   ]
  },
  {
   "cell_type": "code",
   "execution_count": 10,
   "id": "discrete-parameter",
   "metadata": {},
   "outputs": [],
   "source": [
    "cerad_abeta = source_df.groupby(['cerad', 'a_beta'])['act_demented'].aggregate(np.ma.count)\n",
    "cerad_abeta_df =pd.DataFrame(cerad_abeta)\n",
    "cerad_abeta_df.reset_index(inplace=True)\n",
    "cerad_abeta_df['a_beta'] = cerad_abeta_df['a_beta']+3"
   ]
  },
  {
   "cell_type": "code",
   "execution_count": 11,
   "id": "packed-company",
   "metadata": {},
   "outputs": [
    {
     "name": "stdout",
     "output_type": "stream",
     "text": [
      "[0, 0, 1, 1, 1, 1, 2, 2, 2, 3, 3, 3, 3]\n",
      "[4, 5, 4, 5, 6, 8, 4, 5, 6, 4, 5, 6, 7]\n",
      "[68, 2, 85, 13, 2, 1, 59, 24, 6, 45, 32, 12, 3]\n"
     ]
    }
   ],
   "source": [
    "source_list = list(cerad_abeta_df['cerad'])\n",
    "print(source_list)\n",
    "target_list = list(cerad_abeta_df['a_beta'])\n",
    "print(target_list)\n",
    "value_list =list(cerad_abeta_df['act_demented'])\n",
    "print(value_list)"
   ]
  },
  {
   "cell_type": "code",
   "execution_count": 13,
   "id": "central-trailer",
   "metadata": {},
   "outputs": [
    {
     "data": {
      "text/html": [
       "<div>\n",
       "<style scoped>\n",
       "    .dataframe tbody tr th:only-of-type {\n",
       "        vertical-align: middle;\n",
       "    }\n",
       "\n",
       "    .dataframe tbody tr th {\n",
       "        vertical-align: top;\n",
       "    }\n",
       "\n",
       "    .dataframe thead th {\n",
       "        text-align: right;\n",
       "    }\n",
       "</style>\n",
       "<table border=\"1\" class=\"dataframe\">\n",
       "  <thead>\n",
       "    <tr style=\"text-align: right;\">\n",
       "      <th></th>\n",
       "      <th>a_beta</th>\n",
       "      <th>act_demented</th>\n",
       "      <th>cerad</th>\n",
       "    </tr>\n",
       "  </thead>\n",
       "  <tbody>\n",
       "    <tr>\n",
       "      <th>0</th>\n",
       "      <td>4</td>\n",
       "      <td>9</td>\n",
       "      <td>142</td>\n",
       "    </tr>\n",
       "    <tr>\n",
       "      <th>1</th>\n",
       "      <td>4</td>\n",
       "      <td>10</td>\n",
       "      <td>115</td>\n",
       "    </tr>\n",
       "    <tr>\n",
       "      <th>2</th>\n",
       "      <td>5</td>\n",
       "      <td>9</td>\n",
       "      <td>32</td>\n",
       "    </tr>\n",
       "    <tr>\n",
       "      <th>3</th>\n",
       "      <td>5</td>\n",
       "      <td>10</td>\n",
       "      <td>39</td>\n",
       "    </tr>\n",
       "    <tr>\n",
       "      <th>4</th>\n",
       "      <td>6</td>\n",
       "      <td>9</td>\n",
       "      <td>7</td>\n",
       "    </tr>\n",
       "  </tbody>\n",
       "</table>\n",
       "</div>"
      ],
      "text/plain": [
       "   a_beta  act_demented  cerad\n",
       "0       4             9    142\n",
       "1       4            10    115\n",
       "2       5             9     32\n",
       "3       5            10     39\n",
       "4       6             9      7"
      ]
     },
     "execution_count": 13,
     "metadata": {},
     "output_type": "execute_result"
    }
   ],
   "source": [
    "abeta_dementia = source_df.groupby(['a_beta', 'act_demented'])['cerad'].aggregate(np.ma.count)\n",
    "abeta_dementia_df =pd.DataFrame(abeta_dementia)\n",
    "abeta_dementia_df.reset_index(inplace=True)\n",
    "abeta_dementia_df['a_beta'] = abeta_dementia_df['a_beta'] + 3 \n",
    "abeta_dementia_df['act_demented'] = abeta_dementia_df['act_demented'] + 9\n",
    "abeta_dementia_df.head()"
   ]
  },
  {
   "cell_type": "code",
   "execution_count": 14,
   "id": "informed-circle",
   "metadata": {},
   "outputs": [
    {
     "name": "stdout",
     "output_type": "stream",
     "text": [
      "[0, 0, 1, 1, 1, 1, 2, 2, 2, 3, 3, 3, 3, 4, 4, 5, 5, 6, 6, 7, 8]\n",
      "[4, 5, 4, 5, 6, 8, 4, 5, 6, 4, 5, 6, 7, 9, 10, 9, 10, 9, 10, 10, 9]\n",
      "[68, 2, 85, 13, 2, 1, 59, 24, 6, 45, 32, 12, 3, 142, 115, 32, 39, 7, 13, 3, 1]\n"
     ]
    }
   ],
   "source": [
    "source_list =source_list + list(abeta_dementia_df['a_beta'])\n",
    "print(source_list)\n",
    "target_list = target_list+ list(abeta_dementia_df['act_demented'])\n",
    "print(target_list)\n",
    "value_list = value_list+ list(abeta_dementia_df['cerad'])\n",
    "print(value_list)"
   ]
  },
  {
   "cell_type": "code",
   "execution_count": 15,
   "id": "mobile-terminal",
   "metadata": {},
   "outputs": [],
   "source": [
    "nodecolor_list= ['rgba(31, 119, 180, 0.8)', 'rgba(255, 127, 14, 0.8)', 'rgba(44, 160, 44, 0.8)', 'rgba(214, 39, 40, 0.8)', \n",
    "                 'rgba(148, 103, 189, 0.8)', 'rgba(140, 86, 75, 0.8)', 'rgba(227, 119, 194, 0.8)', 'rgba(127, 127, 127, 0.8)',\n",
    "                 'rgba(188, 189, 34, 0.8)', 'rgba(23, 190, 207, 0.8)', 'rgba(31, 119, 180, 0.8)', 'rgba(255, 127, 14, 0.8)', \n",
    "                 'rgba(44, 160, 44, 0.8)', 'rgba(214, 39, 40, 0.8)', 'rgba(148, 103, 189, 0.8)']\n",
    "opacity = 0.4\n",
    "linkcolor_list = [nodecolor_list[src].replace(\"0.8\", str(opacity)) for src in source_list]"
   ]
  },
  {
   "cell_type": "code",
   "execution_count": 18,
   "id": "gorgeous-particular",
   "metadata": {},
   "outputs": [
    {
     "data": {
      "application/vnd.plotly.v1+json": {
       "config": {
        "plotlyServerURL": "https://plot.ly"
       },
       "data": [
        {
         "link": {
          "color": [
           "rgba(31, 119, 180, 0.4)",
           "rgba(31, 119, 180, 0.4)",
           "rgba(255, 127, 14, 0.4)",
           "rgba(255, 127, 14, 0.4)",
           "rgba(255, 127, 14, 0.4)",
           "rgba(255, 127, 14, 0.4)",
           "rgba(44, 160, 44, 0.4)",
           "rgba(44, 160, 44, 0.4)",
           "rgba(44, 160, 44, 0.4)",
           "rgba(214, 39, 40, 0.4)",
           "rgba(214, 39, 40, 0.4)",
           "rgba(214, 39, 40, 0.4)",
           "rgba(214, 39, 40, 0.4)",
           "rgba(148, 103, 189, 0.4)",
           "rgba(148, 103, 189, 0.4)",
           "rgba(140, 86, 75, 0.4)",
           "rgba(140, 86, 75, 0.4)",
           "rgba(227, 119, 194, 0.4)",
           "rgba(227, 119, 194, 0.4)",
           "rgba(127, 127, 127, 0.4)",
           "rgba(188, 189, 34, 0.4)"
          ],
          "source": [
           0,
           0,
           1,
           1,
           1,
           1,
           2,
           2,
           2,
           3,
           3,
           3,
           3,
           4,
           4,
           5,
           5,
           6,
           6,
           7,
           8
          ],
          "target": [
           4,
           5,
           4,
           5,
           6,
           8,
           4,
           5,
           6,
           4,
           5,
           6,
           7,
           9,
           10,
           9,
           10,
           9,
           10,
           10,
           9
          ],
          "value": [
           68,
           2,
           85,
           13,
           2,
           1,
           59,
           24,
           6,
           45,
           32,
           12,
           3,
           142,
           115,
           32,
           39,
           7,
           13,
           3,
           1
          ]
         },
         "node": {
          "color": [
           "rgba(31, 119, 180, 0.8)",
           "rgba(255, 127, 14, 0.8)",
           "rgba(44, 160, 44, 0.8)",
           "rgba(214, 39, 40, 0.8)",
           "rgba(148, 103, 189, 0.8)",
           "rgba(140, 86, 75, 0.8)",
           "rgba(227, 119, 194, 0.8)",
           "rgba(127, 127, 127, 0.8)",
           "rgba(188, 189, 34, 0.8)",
           "rgba(23, 190, 207, 0.8)",
           "rgba(31, 119, 180, 0.8)",
           "rgba(255, 127, 14, 0.8)",
           "rgba(44, 160, 44, 0.8)",
           "rgba(214, 39, 40, 0.8)",
           "rgba(148, 103, 189, 0.8)"
          ],
          "label": [
           "0",
           "1",
           "2",
           "3",
           "1",
           "2",
           "3",
           "4",
           "5",
           "No Dementia",
           "Dementia"
          ],
          "line": {
           "color": "black",
           "width": 0.5
          },
          "pad": 15,
          "thickness": 20,
          "x": [
           0.001,
           0.001,
           0.001,
           0.001,
           0.5,
           0.5,
           0.5,
           0.5,
           0.5,
           0.999,
           0.999
          ],
          "y": [
           0.99,
           0.75,
           0.45,
           0.05,
           0.9,
           0.45,
           0.25,
           0.1,
           0.05,
           0.85,
           0.2
          ]
         },
         "type": "sankey"
        }
       ],
       "layout": {
        "font": {
         "size": 10
        },
        "template": {
         "data": {
          "bar": [
           {
            "error_x": {
             "color": "#2a3f5f"
            },
            "error_y": {
             "color": "#2a3f5f"
            },
            "marker": {
             "line": {
              "color": "#E5ECF6",
              "width": 0.5
             },
             "pattern": {
              "fillmode": "overlay",
              "size": 10,
              "solidity": 0.2
             }
            },
            "type": "bar"
           }
          ],
          "barpolar": [
           {
            "marker": {
             "line": {
              "color": "#E5ECF6",
              "width": 0.5
             },
             "pattern": {
              "fillmode": "overlay",
              "size": 10,
              "solidity": 0.2
             }
            },
            "type": "barpolar"
           }
          ],
          "carpet": [
           {
            "aaxis": {
             "endlinecolor": "#2a3f5f",
             "gridcolor": "white",
             "linecolor": "white",
             "minorgridcolor": "white",
             "startlinecolor": "#2a3f5f"
            },
            "baxis": {
             "endlinecolor": "#2a3f5f",
             "gridcolor": "white",
             "linecolor": "white",
             "minorgridcolor": "white",
             "startlinecolor": "#2a3f5f"
            },
            "type": "carpet"
           }
          ],
          "choropleth": [
           {
            "colorbar": {
             "outlinewidth": 0,
             "ticks": ""
            },
            "type": "choropleth"
           }
          ],
          "contour": [
           {
            "colorbar": {
             "outlinewidth": 0,
             "ticks": ""
            },
            "colorscale": [
             [
              0,
              "#0d0887"
             ],
             [
              0.1111111111111111,
              "#46039f"
             ],
             [
              0.2222222222222222,
              "#7201a8"
             ],
             [
              0.3333333333333333,
              "#9c179e"
             ],
             [
              0.4444444444444444,
              "#bd3786"
             ],
             [
              0.5555555555555556,
              "#d8576b"
             ],
             [
              0.6666666666666666,
              "#ed7953"
             ],
             [
              0.7777777777777778,
              "#fb9f3a"
             ],
             [
              0.8888888888888888,
              "#fdca26"
             ],
             [
              1,
              "#f0f921"
             ]
            ],
            "type": "contour"
           }
          ],
          "contourcarpet": [
           {
            "colorbar": {
             "outlinewidth": 0,
             "ticks": ""
            },
            "type": "contourcarpet"
           }
          ],
          "heatmap": [
           {
            "colorbar": {
             "outlinewidth": 0,
             "ticks": ""
            },
            "colorscale": [
             [
              0,
              "#0d0887"
             ],
             [
              0.1111111111111111,
              "#46039f"
             ],
             [
              0.2222222222222222,
              "#7201a8"
             ],
             [
              0.3333333333333333,
              "#9c179e"
             ],
             [
              0.4444444444444444,
              "#bd3786"
             ],
             [
              0.5555555555555556,
              "#d8576b"
             ],
             [
              0.6666666666666666,
              "#ed7953"
             ],
             [
              0.7777777777777778,
              "#fb9f3a"
             ],
             [
              0.8888888888888888,
              "#fdca26"
             ],
             [
              1,
              "#f0f921"
             ]
            ],
            "type": "heatmap"
           }
          ],
          "heatmapgl": [
           {
            "colorbar": {
             "outlinewidth": 0,
             "ticks": ""
            },
            "colorscale": [
             [
              0,
              "#0d0887"
             ],
             [
              0.1111111111111111,
              "#46039f"
             ],
             [
              0.2222222222222222,
              "#7201a8"
             ],
             [
              0.3333333333333333,
              "#9c179e"
             ],
             [
              0.4444444444444444,
              "#bd3786"
             ],
             [
              0.5555555555555556,
              "#d8576b"
             ],
             [
              0.6666666666666666,
              "#ed7953"
             ],
             [
              0.7777777777777778,
              "#fb9f3a"
             ],
             [
              0.8888888888888888,
              "#fdca26"
             ],
             [
              1,
              "#f0f921"
             ]
            ],
            "type": "heatmapgl"
           }
          ],
          "histogram": [
           {
            "marker": {
             "pattern": {
              "fillmode": "overlay",
              "size": 10,
              "solidity": 0.2
             }
            },
            "type": "histogram"
           }
          ],
          "histogram2d": [
           {
            "colorbar": {
             "outlinewidth": 0,
             "ticks": ""
            },
            "colorscale": [
             [
              0,
              "#0d0887"
             ],
             [
              0.1111111111111111,
              "#46039f"
             ],
             [
              0.2222222222222222,
              "#7201a8"
             ],
             [
              0.3333333333333333,
              "#9c179e"
             ],
             [
              0.4444444444444444,
              "#bd3786"
             ],
             [
              0.5555555555555556,
              "#d8576b"
             ],
             [
              0.6666666666666666,
              "#ed7953"
             ],
             [
              0.7777777777777778,
              "#fb9f3a"
             ],
             [
              0.8888888888888888,
              "#fdca26"
             ],
             [
              1,
              "#f0f921"
             ]
            ],
            "type": "histogram2d"
           }
          ],
          "histogram2dcontour": [
           {
            "colorbar": {
             "outlinewidth": 0,
             "ticks": ""
            },
            "colorscale": [
             [
              0,
              "#0d0887"
             ],
             [
              0.1111111111111111,
              "#46039f"
             ],
             [
              0.2222222222222222,
              "#7201a8"
             ],
             [
              0.3333333333333333,
              "#9c179e"
             ],
             [
              0.4444444444444444,
              "#bd3786"
             ],
             [
              0.5555555555555556,
              "#d8576b"
             ],
             [
              0.6666666666666666,
              "#ed7953"
             ],
             [
              0.7777777777777778,
              "#fb9f3a"
             ],
             [
              0.8888888888888888,
              "#fdca26"
             ],
             [
              1,
              "#f0f921"
             ]
            ],
            "type": "histogram2dcontour"
           }
          ],
          "mesh3d": [
           {
            "colorbar": {
             "outlinewidth": 0,
             "ticks": ""
            },
            "type": "mesh3d"
           }
          ],
          "parcoords": [
           {
            "line": {
             "colorbar": {
              "outlinewidth": 0,
              "ticks": ""
             }
            },
            "type": "parcoords"
           }
          ],
          "pie": [
           {
            "automargin": true,
            "type": "pie"
           }
          ],
          "scatter": [
           {
            "fillpattern": {
             "fillmode": "overlay",
             "size": 10,
             "solidity": 0.2
            },
            "type": "scatter"
           }
          ],
          "scatter3d": [
           {
            "line": {
             "colorbar": {
              "outlinewidth": 0,
              "ticks": ""
             }
            },
            "marker": {
             "colorbar": {
              "outlinewidth": 0,
              "ticks": ""
             }
            },
            "type": "scatter3d"
           }
          ],
          "scattercarpet": [
           {
            "marker": {
             "colorbar": {
              "outlinewidth": 0,
              "ticks": ""
             }
            },
            "type": "scattercarpet"
           }
          ],
          "scattergeo": [
           {
            "marker": {
             "colorbar": {
              "outlinewidth": 0,
              "ticks": ""
             }
            },
            "type": "scattergeo"
           }
          ],
          "scattergl": [
           {
            "marker": {
             "colorbar": {
              "outlinewidth": 0,
              "ticks": ""
             }
            },
            "type": "scattergl"
           }
          ],
          "scattermapbox": [
           {
            "marker": {
             "colorbar": {
              "outlinewidth": 0,
              "ticks": ""
             }
            },
            "type": "scattermapbox"
           }
          ],
          "scatterpolar": [
           {
            "marker": {
             "colorbar": {
              "outlinewidth": 0,
              "ticks": ""
             }
            },
            "type": "scatterpolar"
           }
          ],
          "scatterpolargl": [
           {
            "marker": {
             "colorbar": {
              "outlinewidth": 0,
              "ticks": ""
             }
            },
            "type": "scatterpolargl"
           }
          ],
          "scatterternary": [
           {
            "marker": {
             "colorbar": {
              "outlinewidth": 0,
              "ticks": ""
             }
            },
            "type": "scatterternary"
           }
          ],
          "surface": [
           {
            "colorbar": {
             "outlinewidth": 0,
             "ticks": ""
            },
            "colorscale": [
             [
              0,
              "#0d0887"
             ],
             [
              0.1111111111111111,
              "#46039f"
             ],
             [
              0.2222222222222222,
              "#7201a8"
             ],
             [
              0.3333333333333333,
              "#9c179e"
             ],
             [
              0.4444444444444444,
              "#bd3786"
             ],
             [
              0.5555555555555556,
              "#d8576b"
             ],
             [
              0.6666666666666666,
              "#ed7953"
             ],
             [
              0.7777777777777778,
              "#fb9f3a"
             ],
             [
              0.8888888888888888,
              "#fdca26"
             ],
             [
              1,
              "#f0f921"
             ]
            ],
            "type": "surface"
           }
          ],
          "table": [
           {
            "cells": {
             "fill": {
              "color": "#EBF0F8"
             },
             "line": {
              "color": "white"
             }
            },
            "header": {
             "fill": {
              "color": "#C8D4E3"
             },
             "line": {
              "color": "white"
             }
            },
            "type": "table"
           }
          ]
         },
         "layout": {
          "annotationdefaults": {
           "arrowcolor": "#2a3f5f",
           "arrowhead": 0,
           "arrowwidth": 1
          },
          "autotypenumbers": "strict",
          "coloraxis": {
           "colorbar": {
            "outlinewidth": 0,
            "ticks": ""
           }
          },
          "colorscale": {
           "diverging": [
            [
             0,
             "#8e0152"
            ],
            [
             0.1,
             "#c51b7d"
            ],
            [
             0.2,
             "#de77ae"
            ],
            [
             0.3,
             "#f1b6da"
            ],
            [
             0.4,
             "#fde0ef"
            ],
            [
             0.5,
             "#f7f7f7"
            ],
            [
             0.6,
             "#e6f5d0"
            ],
            [
             0.7,
             "#b8e186"
            ],
            [
             0.8,
             "#7fbc41"
            ],
            [
             0.9,
             "#4d9221"
            ],
            [
             1,
             "#276419"
            ]
           ],
           "sequential": [
            [
             0,
             "#0d0887"
            ],
            [
             0.1111111111111111,
             "#46039f"
            ],
            [
             0.2222222222222222,
             "#7201a8"
            ],
            [
             0.3333333333333333,
             "#9c179e"
            ],
            [
             0.4444444444444444,
             "#bd3786"
            ],
            [
             0.5555555555555556,
             "#d8576b"
            ],
            [
             0.6666666666666666,
             "#ed7953"
            ],
            [
             0.7777777777777778,
             "#fb9f3a"
            ],
            [
             0.8888888888888888,
             "#fdca26"
            ],
            [
             1,
             "#f0f921"
            ]
           ],
           "sequentialminus": [
            [
             0,
             "#0d0887"
            ],
            [
             0.1111111111111111,
             "#46039f"
            ],
            [
             0.2222222222222222,
             "#7201a8"
            ],
            [
             0.3333333333333333,
             "#9c179e"
            ],
            [
             0.4444444444444444,
             "#bd3786"
            ],
            [
             0.5555555555555556,
             "#d8576b"
            ],
            [
             0.6666666666666666,
             "#ed7953"
            ],
            [
             0.7777777777777778,
             "#fb9f3a"
            ],
            [
             0.8888888888888888,
             "#fdca26"
            ],
            [
             1,
             "#f0f921"
            ]
           ]
          },
          "colorway": [
           "#636efa",
           "#EF553B",
           "#00cc96",
           "#ab63fa",
           "#FFA15A",
           "#19d3f3",
           "#FF6692",
           "#B6E880",
           "#FF97FF",
           "#FECB52"
          ],
          "font": {
           "color": "#2a3f5f"
          },
          "geo": {
           "bgcolor": "white",
           "lakecolor": "white",
           "landcolor": "#E5ECF6",
           "showlakes": true,
           "showland": true,
           "subunitcolor": "white"
          },
          "hoverlabel": {
           "align": "left"
          },
          "hovermode": "closest",
          "mapbox": {
           "style": "light"
          },
          "paper_bgcolor": "white",
          "plot_bgcolor": "#E5ECF6",
          "polar": {
           "angularaxis": {
            "gridcolor": "white",
            "linecolor": "white",
            "ticks": ""
           },
           "bgcolor": "#E5ECF6",
           "radialaxis": {
            "gridcolor": "white",
            "linecolor": "white",
            "ticks": ""
           }
          },
          "scene": {
           "xaxis": {
            "backgroundcolor": "#E5ECF6",
            "gridcolor": "white",
            "gridwidth": 2,
            "linecolor": "white",
            "showbackground": true,
            "ticks": "",
            "zerolinecolor": "white"
           },
           "yaxis": {
            "backgroundcolor": "#E5ECF6",
            "gridcolor": "white",
            "gridwidth": 2,
            "linecolor": "white",
            "showbackground": true,
            "ticks": "",
            "zerolinecolor": "white"
           },
           "zaxis": {
            "backgroundcolor": "#E5ECF6",
            "gridcolor": "white",
            "gridwidth": 2,
            "linecolor": "white",
            "showbackground": true,
            "ticks": "",
            "zerolinecolor": "white"
           }
          },
          "shapedefaults": {
           "line": {
            "color": "#2a3f5f"
           }
          },
          "ternary": {
           "aaxis": {
            "gridcolor": "white",
            "linecolor": "white",
            "ticks": ""
           },
           "baxis": {
            "gridcolor": "white",
            "linecolor": "white",
            "ticks": ""
           },
           "bgcolor": "#E5ECF6",
           "caxis": {
            "gridcolor": "white",
            "linecolor": "white",
            "ticks": ""
           }
          },
          "title": {
           "x": 0.05
          },
          "xaxis": {
           "automargin": true,
           "gridcolor": "white",
           "linecolor": "white",
           "ticks": "",
           "title": {
            "standoff": 15
           },
           "zerolinecolor": "white",
           "zerolinewidth": 2
          },
          "yaxis": {
           "automargin": true,
           "gridcolor": "white",
           "linecolor": "white",
           "ticks": "",
           "title": {
            "standoff": 15
           },
           "zerolinecolor": "white",
           "zerolinewidth": 2
          }
         }
        },
        "title": {
         "text": "Sankey Diagram: CERAD SCore, Aβ protein and Dementia Status"
        }
       }
      },
      "text/html": [
       "<div>                            <div id=\"f79eac80-c6f7-4ab2-b4f3-f8b260db7745\" class=\"plotly-graph-div\" style=\"height:525px; width:100%;\"></div>            <script type=\"text/javascript\">                require([\"plotly\"], function(Plotly) {                    window.PLOTLYENV=window.PLOTLYENV || {};                                    if (document.getElementById(\"f79eac80-c6f7-4ab2-b4f3-f8b260db7745\")) {                    Plotly.newPlot(                        \"f79eac80-c6f7-4ab2-b4f3-f8b260db7745\",                        [{\"link\":{\"color\":[\"rgba(31, 119, 180, 0.4)\",\"rgba(31, 119, 180, 0.4)\",\"rgba(255, 127, 14, 0.4)\",\"rgba(255, 127, 14, 0.4)\",\"rgba(255, 127, 14, 0.4)\",\"rgba(255, 127, 14, 0.4)\",\"rgba(44, 160, 44, 0.4)\",\"rgba(44, 160, 44, 0.4)\",\"rgba(44, 160, 44, 0.4)\",\"rgba(214, 39, 40, 0.4)\",\"rgba(214, 39, 40, 0.4)\",\"rgba(214, 39, 40, 0.4)\",\"rgba(214, 39, 40, 0.4)\",\"rgba(148, 103, 189, 0.4)\",\"rgba(148, 103, 189, 0.4)\",\"rgba(140, 86, 75, 0.4)\",\"rgba(140, 86, 75, 0.4)\",\"rgba(227, 119, 194, 0.4)\",\"rgba(227, 119, 194, 0.4)\",\"rgba(127, 127, 127, 0.4)\",\"rgba(188, 189, 34, 0.4)\"],\"source\":[0,0,1,1,1,1,2,2,2,3,3,3,3,4,4,5,5,6,6,7,8],\"target\":[4,5,4,5,6,8,4,5,6,4,5,6,7,9,10,9,10,9,10,10,9],\"value\":[68,2,85,13,2,1,59,24,6,45,32,12,3,142,115,32,39,7,13,3,1]},\"node\":{\"color\":[\"rgba(31, 119, 180, 0.8)\",\"rgba(255, 127, 14, 0.8)\",\"rgba(44, 160, 44, 0.8)\",\"rgba(214, 39, 40, 0.8)\",\"rgba(148, 103, 189, 0.8)\",\"rgba(140, 86, 75, 0.8)\",\"rgba(227, 119, 194, 0.8)\",\"rgba(127, 127, 127, 0.8)\",\"rgba(188, 189, 34, 0.8)\",\"rgba(23, 190, 207, 0.8)\",\"rgba(31, 119, 180, 0.8)\",\"rgba(255, 127, 14, 0.8)\",\"rgba(44, 160, 44, 0.8)\",\"rgba(214, 39, 40, 0.8)\",\"rgba(148, 103, 189, 0.8)\"],\"label\":[\"0\",\"1\",\"2\",\"3\",\"1\",\"2\",\"3\",\"4\",\"5\",\"No Dementia\",\"Dementia\"],\"line\":{\"color\":\"black\",\"width\":0.5},\"pad\":15,\"thickness\":20,\"x\":[0.001,0.001,0.001,0.001,0.5,0.5,0.5,0.5,0.5,0.999,0.999],\"y\":[0.99,0.75,0.45,0.05,0.9,0.45,0.25,0.1,0.05,0.85,0.2]},\"type\":\"sankey\"}],                        {\"template\":{\"data\":{\"histogram2dcontour\":[{\"type\":\"histogram2dcontour\",\"colorbar\":{\"outlinewidth\":0,\"ticks\":\"\"},\"colorscale\":[[0.0,\"#0d0887\"],[0.1111111111111111,\"#46039f\"],[0.2222222222222222,\"#7201a8\"],[0.3333333333333333,\"#9c179e\"],[0.4444444444444444,\"#bd3786\"],[0.5555555555555556,\"#d8576b\"],[0.6666666666666666,\"#ed7953\"],[0.7777777777777778,\"#fb9f3a\"],[0.8888888888888888,\"#fdca26\"],[1.0,\"#f0f921\"]]}],\"choropleth\":[{\"type\":\"choropleth\",\"colorbar\":{\"outlinewidth\":0,\"ticks\":\"\"}}],\"histogram2d\":[{\"type\":\"histogram2d\",\"colorbar\":{\"outlinewidth\":0,\"ticks\":\"\"},\"colorscale\":[[0.0,\"#0d0887\"],[0.1111111111111111,\"#46039f\"],[0.2222222222222222,\"#7201a8\"],[0.3333333333333333,\"#9c179e\"],[0.4444444444444444,\"#bd3786\"],[0.5555555555555556,\"#d8576b\"],[0.6666666666666666,\"#ed7953\"],[0.7777777777777778,\"#fb9f3a\"],[0.8888888888888888,\"#fdca26\"],[1.0,\"#f0f921\"]]}],\"heatmap\":[{\"type\":\"heatmap\",\"colorbar\":{\"outlinewidth\":0,\"ticks\":\"\"},\"colorscale\":[[0.0,\"#0d0887\"],[0.1111111111111111,\"#46039f\"],[0.2222222222222222,\"#7201a8\"],[0.3333333333333333,\"#9c179e\"],[0.4444444444444444,\"#bd3786\"],[0.5555555555555556,\"#d8576b\"],[0.6666666666666666,\"#ed7953\"],[0.7777777777777778,\"#fb9f3a\"],[0.8888888888888888,\"#fdca26\"],[1.0,\"#f0f921\"]]}],\"heatmapgl\":[{\"type\":\"heatmapgl\",\"colorbar\":{\"outlinewidth\":0,\"ticks\":\"\"},\"colorscale\":[[0.0,\"#0d0887\"],[0.1111111111111111,\"#46039f\"],[0.2222222222222222,\"#7201a8\"],[0.3333333333333333,\"#9c179e\"],[0.4444444444444444,\"#bd3786\"],[0.5555555555555556,\"#d8576b\"],[0.6666666666666666,\"#ed7953\"],[0.7777777777777778,\"#fb9f3a\"],[0.8888888888888888,\"#fdca26\"],[1.0,\"#f0f921\"]]}],\"contourcarpet\":[{\"type\":\"contourcarpet\",\"colorbar\":{\"outlinewidth\":0,\"ticks\":\"\"}}],\"contour\":[{\"type\":\"contour\",\"colorbar\":{\"outlinewidth\":0,\"ticks\":\"\"},\"colorscale\":[[0.0,\"#0d0887\"],[0.1111111111111111,\"#46039f\"],[0.2222222222222222,\"#7201a8\"],[0.3333333333333333,\"#9c179e\"],[0.4444444444444444,\"#bd3786\"],[0.5555555555555556,\"#d8576b\"],[0.6666666666666666,\"#ed7953\"],[0.7777777777777778,\"#fb9f3a\"],[0.8888888888888888,\"#fdca26\"],[1.0,\"#f0f921\"]]}],\"surface\":[{\"type\":\"surface\",\"colorbar\":{\"outlinewidth\":0,\"ticks\":\"\"},\"colorscale\":[[0.0,\"#0d0887\"],[0.1111111111111111,\"#46039f\"],[0.2222222222222222,\"#7201a8\"],[0.3333333333333333,\"#9c179e\"],[0.4444444444444444,\"#bd3786\"],[0.5555555555555556,\"#d8576b\"],[0.6666666666666666,\"#ed7953\"],[0.7777777777777778,\"#fb9f3a\"],[0.8888888888888888,\"#fdca26\"],[1.0,\"#f0f921\"]]}],\"mesh3d\":[{\"type\":\"mesh3d\",\"colorbar\":{\"outlinewidth\":0,\"ticks\":\"\"}}],\"scatter\":[{\"fillpattern\":{\"fillmode\":\"overlay\",\"size\":10,\"solidity\":0.2},\"type\":\"scatter\"}],\"parcoords\":[{\"type\":\"parcoords\",\"line\":{\"colorbar\":{\"outlinewidth\":0,\"ticks\":\"\"}}}],\"scatterpolargl\":[{\"type\":\"scatterpolargl\",\"marker\":{\"colorbar\":{\"outlinewidth\":0,\"ticks\":\"\"}}}],\"bar\":[{\"error_x\":{\"color\":\"#2a3f5f\"},\"error_y\":{\"color\":\"#2a3f5f\"},\"marker\":{\"line\":{\"color\":\"#E5ECF6\",\"width\":0.5},\"pattern\":{\"fillmode\":\"overlay\",\"size\":10,\"solidity\":0.2}},\"type\":\"bar\"}],\"scattergeo\":[{\"type\":\"scattergeo\",\"marker\":{\"colorbar\":{\"outlinewidth\":0,\"ticks\":\"\"}}}],\"scatterpolar\":[{\"type\":\"scatterpolar\",\"marker\":{\"colorbar\":{\"outlinewidth\":0,\"ticks\":\"\"}}}],\"histogram\":[{\"marker\":{\"pattern\":{\"fillmode\":\"overlay\",\"size\":10,\"solidity\":0.2}},\"type\":\"histogram\"}],\"scattergl\":[{\"type\":\"scattergl\",\"marker\":{\"colorbar\":{\"outlinewidth\":0,\"ticks\":\"\"}}}],\"scatter3d\":[{\"type\":\"scatter3d\",\"line\":{\"colorbar\":{\"outlinewidth\":0,\"ticks\":\"\"}},\"marker\":{\"colorbar\":{\"outlinewidth\":0,\"ticks\":\"\"}}}],\"scattermapbox\":[{\"type\":\"scattermapbox\",\"marker\":{\"colorbar\":{\"outlinewidth\":0,\"ticks\":\"\"}}}],\"scatterternary\":[{\"type\":\"scatterternary\",\"marker\":{\"colorbar\":{\"outlinewidth\":0,\"ticks\":\"\"}}}],\"scattercarpet\":[{\"type\":\"scattercarpet\",\"marker\":{\"colorbar\":{\"outlinewidth\":0,\"ticks\":\"\"}}}],\"carpet\":[{\"aaxis\":{\"endlinecolor\":\"#2a3f5f\",\"gridcolor\":\"white\",\"linecolor\":\"white\",\"minorgridcolor\":\"white\",\"startlinecolor\":\"#2a3f5f\"},\"baxis\":{\"endlinecolor\":\"#2a3f5f\",\"gridcolor\":\"white\",\"linecolor\":\"white\",\"minorgridcolor\":\"white\",\"startlinecolor\":\"#2a3f5f\"},\"type\":\"carpet\"}],\"table\":[{\"cells\":{\"fill\":{\"color\":\"#EBF0F8\"},\"line\":{\"color\":\"white\"}},\"header\":{\"fill\":{\"color\":\"#C8D4E3\"},\"line\":{\"color\":\"white\"}},\"type\":\"table\"}],\"barpolar\":[{\"marker\":{\"line\":{\"color\":\"#E5ECF6\",\"width\":0.5},\"pattern\":{\"fillmode\":\"overlay\",\"size\":10,\"solidity\":0.2}},\"type\":\"barpolar\"}],\"pie\":[{\"automargin\":true,\"type\":\"pie\"}]},\"layout\":{\"autotypenumbers\":\"strict\",\"colorway\":[\"#636efa\",\"#EF553B\",\"#00cc96\",\"#ab63fa\",\"#FFA15A\",\"#19d3f3\",\"#FF6692\",\"#B6E880\",\"#FF97FF\",\"#FECB52\"],\"font\":{\"color\":\"#2a3f5f\"},\"hovermode\":\"closest\",\"hoverlabel\":{\"align\":\"left\"},\"paper_bgcolor\":\"white\",\"plot_bgcolor\":\"#E5ECF6\",\"polar\":{\"bgcolor\":\"#E5ECF6\",\"angularaxis\":{\"gridcolor\":\"white\",\"linecolor\":\"white\",\"ticks\":\"\"},\"radialaxis\":{\"gridcolor\":\"white\",\"linecolor\":\"white\",\"ticks\":\"\"}},\"ternary\":{\"bgcolor\":\"#E5ECF6\",\"aaxis\":{\"gridcolor\":\"white\",\"linecolor\":\"white\",\"ticks\":\"\"},\"baxis\":{\"gridcolor\":\"white\",\"linecolor\":\"white\",\"ticks\":\"\"},\"caxis\":{\"gridcolor\":\"white\",\"linecolor\":\"white\",\"ticks\":\"\"}},\"coloraxis\":{\"colorbar\":{\"outlinewidth\":0,\"ticks\":\"\"}},\"colorscale\":{\"sequential\":[[0.0,\"#0d0887\"],[0.1111111111111111,\"#46039f\"],[0.2222222222222222,\"#7201a8\"],[0.3333333333333333,\"#9c179e\"],[0.4444444444444444,\"#bd3786\"],[0.5555555555555556,\"#d8576b\"],[0.6666666666666666,\"#ed7953\"],[0.7777777777777778,\"#fb9f3a\"],[0.8888888888888888,\"#fdca26\"],[1.0,\"#f0f921\"]],\"sequentialminus\":[[0.0,\"#0d0887\"],[0.1111111111111111,\"#46039f\"],[0.2222222222222222,\"#7201a8\"],[0.3333333333333333,\"#9c179e\"],[0.4444444444444444,\"#bd3786\"],[0.5555555555555556,\"#d8576b\"],[0.6666666666666666,\"#ed7953\"],[0.7777777777777778,\"#fb9f3a\"],[0.8888888888888888,\"#fdca26\"],[1.0,\"#f0f921\"]],\"diverging\":[[0,\"#8e0152\"],[0.1,\"#c51b7d\"],[0.2,\"#de77ae\"],[0.3,\"#f1b6da\"],[0.4,\"#fde0ef\"],[0.5,\"#f7f7f7\"],[0.6,\"#e6f5d0\"],[0.7,\"#b8e186\"],[0.8,\"#7fbc41\"],[0.9,\"#4d9221\"],[1,\"#276419\"]]},\"xaxis\":{\"gridcolor\":\"white\",\"linecolor\":\"white\",\"ticks\":\"\",\"title\":{\"standoff\":15},\"zerolinecolor\":\"white\",\"automargin\":true,\"zerolinewidth\":2},\"yaxis\":{\"gridcolor\":\"white\",\"linecolor\":\"white\",\"ticks\":\"\",\"title\":{\"standoff\":15},\"zerolinecolor\":\"white\",\"automargin\":true,\"zerolinewidth\":2},\"scene\":{\"xaxis\":{\"backgroundcolor\":\"#E5ECF6\",\"gridcolor\":\"white\",\"linecolor\":\"white\",\"showbackground\":true,\"ticks\":\"\",\"zerolinecolor\":\"white\",\"gridwidth\":2},\"yaxis\":{\"backgroundcolor\":\"#E5ECF6\",\"gridcolor\":\"white\",\"linecolor\":\"white\",\"showbackground\":true,\"ticks\":\"\",\"zerolinecolor\":\"white\",\"gridwidth\":2},\"zaxis\":{\"backgroundcolor\":\"#E5ECF6\",\"gridcolor\":\"white\",\"linecolor\":\"white\",\"showbackground\":true,\"ticks\":\"\",\"zerolinecolor\":\"white\",\"gridwidth\":2}},\"shapedefaults\":{\"line\":{\"color\":\"#2a3f5f\"}},\"annotationdefaults\":{\"arrowcolor\":\"#2a3f5f\",\"arrowhead\":0,\"arrowwidth\":1},\"geo\":{\"bgcolor\":\"white\",\"landcolor\":\"#E5ECF6\",\"subunitcolor\":\"white\",\"showland\":true,\"showlakes\":true,\"lakecolor\":\"white\"},\"title\":{\"x\":0.05},\"mapbox\":{\"style\":\"light\"}}},\"title\":{\"text\":\"Sankey Diagram: CERAD SCore, A\\u03b2 protein and Dementia Status\"},\"font\":{\"size\":10}},                        {\"responsive\": true}                    ).then(function(){\n",
       "                            \n",
       "var gd = document.getElementById('f79eac80-c6f7-4ab2-b4f3-f8b260db7745');\n",
       "var x = new MutationObserver(function (mutations, observer) {{\n",
       "        var display = window.getComputedStyle(gd).display;\n",
       "        if (!display || display === 'none') {{\n",
       "            console.log([gd, 'removed!']);\n",
       "            Plotly.purge(gd);\n",
       "            observer.disconnect();\n",
       "        }}\n",
       "}});\n",
       "\n",
       "// Listen for the removal of the full notebook cells\n",
       "var notebookContainer = gd.closest('#notebook-container');\n",
       "if (notebookContainer) {{\n",
       "    x.observe(notebookContainer, {childList: true});\n",
       "}}\n",
       "\n",
       "// Listen for the clearing of the current output cell\n",
       "var outputEl = gd.closest('.output');\n",
       "if (outputEl) {{\n",
       "    x.observe(outputEl, {childList: true});\n",
       "}}\n",
       "\n",
       "                        })                };                });            </script>        </div>"
      ]
     },
     "metadata": {},
     "output_type": "display_data"
    }
   ],
   "source": [
    "fig = go.Figure(data=[go.Sankey(\n",
    "    node = dict(\n",
    "      pad = 15,\n",
    "      thickness = 20,\n",
    "      line = dict(color = \"black\", width = 0.5),\n",
    "      label = ['0', '1','2','3', '1','2','3', '4', '5', 'No Dementia', 'Dementia'],\n",
    "      x = [0.001, 0.001,0.001, 0.001, 0.5, 0.5, 0.5, 0.5, 0.5, 0.999, 0.999 ],\n",
    "      y=[0.99, 0.75, 0.45, 0.05, 0.90, 0.45, 0.25, 0.1, 0.05,  0.85, 0.2],\n",
    "      color = nodecolor_list\n",
    "    ),\n",
    "    link = dict(\n",
    "      source = source_list, \n",
    "      target = target_list,\n",
    "      value = value_list,\n",
    "      color = linkcolor_list  \n",
    "  ))])\n",
    "\n",
    "fig.update_layout(title_text=\"Sankey Diagram: CERAD SCore, Aβ protein and Dementia Status\", font_size=10)\n",
    "fig.show()\n"
   ]
  },
  {
   "cell_type": "code",
   "execution_count": null,
   "id": "divine-ghana",
   "metadata": {},
   "outputs": [],
   "source": []
  }
 ],
 "metadata": {
  "kernelspec": {
   "display_name": "Python 3",
   "language": "python",
   "name": "python3"
  },
  "language_info": {
   "codemirror_mode": {
    "name": "ipython",
    "version": 3
   },
   "file_extension": ".py",
   "mimetype": "text/x-python",
   "name": "python",
   "nbconvert_exporter": "python",
   "pygments_lexer": "ipython3",
   "version": "3.7.10"
  }
 },
 "nbformat": 4,
 "nbformat_minor": 5
}
