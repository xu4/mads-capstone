{
 "cells": [
  {
   "cell_type": "code",
   "execution_count": 97,
   "id": "equivalent-importance",
   "metadata": {},
   "outputs": [],
   "source": [
    "import pandas as pd\n",
    "import numpy as np\n",
    "import matplotlib.pyplot as plt\n",
    "import seaborn as sns\n",
    "import scipy.stats as stats\n",
    "sns.set_palette(\"pastel\")"
   ]
  },
  {
   "cell_type": "code",
   "execution_count": 98,
   "id": "satisfactory-thomson",
   "metadata": {},
   "outputs": [
    {
     "data": {
      "text/html": [
       "<div>\n",
       "<style scoped>\n",
       "    .dataframe tbody tr th:only-of-type {\n",
       "        vertical-align: middle;\n",
       "    }\n",
       "\n",
       "    .dataframe tbody tr th {\n",
       "        vertical-align: top;\n",
       "    }\n",
       "\n",
       "    .dataframe thead th {\n",
       "        text-align: right;\n",
       "    }\n",
       "</style>\n",
       "<table border=\"1\" class=\"dataframe\">\n",
       "  <thead>\n",
       "    <tr style=\"text-align: right;\">\n",
       "      <th></th>\n",
       "      <th>donor_id</th>\n",
       "      <th>donor_name</th>\n",
       "      <th>structure_id</th>\n",
       "      <th>structure_acronym</th>\n",
       "      <th>ihc_a_syn</th>\n",
       "      <th>ihc_tau2_ffpe</th>\n",
       "      <th>ihc_at8_ffpe</th>\n",
       "      <th>ihc_at8</th>\n",
       "      <th>ihc_ptdp_43_ffpe</th>\n",
       "      <th>ihc_a_beta_ffpe</th>\n",
       "      <th>...</th>\n",
       "      <th>il_4_pg_per_mg</th>\n",
       "      <th>rantes_pg_per_mg</th>\n",
       "      <th>ab40_pg_per_mg</th>\n",
       "      <th>a_syn_pg_per_mg</th>\n",
       "      <th>ifn_g_pg_per_mg</th>\n",
       "      <th>mcp_1_pg_per_mg</th>\n",
       "      <th>bdnf_pg_per_mg</th>\n",
       "      <th>mip_1a_pg_per_mg</th>\n",
       "      <th>il_7_pg_per_mg</th>\n",
       "      <th>ab42_pg_per_mg</th>\n",
       "    </tr>\n",
       "  </thead>\n",
       "  <tbody>\n",
       "    <tr>\n",
       "      <th>0</th>\n",
       "      <td>309335467</td>\n",
       "      <td>H14.09.030</td>\n",
       "      <td>10557</td>\n",
       "      <td>FWM</td>\n",
       "      <td>0.000078</td>\n",
       "      <td>0.002358</td>\n",
       "      <td>0.001137</td>\n",
       "      <td>0.000110</td>\n",
       "      <td>0.001259</td>\n",
       "      <td>0.008335</td>\n",
       "      <td>...</td>\n",
       "      <td>2.68</td>\n",
       "      <td>15.99</td>\n",
       "      <td>0.736100</td>\n",
       "      <td>0.122288</td>\n",
       "      <td>1.47</td>\n",
       "      <td>20.78</td>\n",
       "      <td>5.03736</td>\n",
       "      <td>9.38</td>\n",
       "      <td>11.78</td>\n",
       "      <td>523.292251</td>\n",
       "    </tr>\n",
       "    <tr>\n",
       "      <th>1</th>\n",
       "      <td>309335480</td>\n",
       "      <td>H14.09.043</td>\n",
       "      <td>10208</td>\n",
       "      <td>PCx</td>\n",
       "      <td>0.000063</td>\n",
       "      <td>0.002762</td>\n",
       "      <td>0.001272</td>\n",
       "      <td>0.000164</td>\n",
       "      <td>0.002354</td>\n",
       "      <td>0.005047</td>\n",
       "      <td>...</td>\n",
       "      <td>3.02</td>\n",
       "      <td>24.04</td>\n",
       "      <td>0.669094</td>\n",
       "      <td>0.111962</td>\n",
       "      <td>1.44</td>\n",
       "      <td>40.40</td>\n",
       "      <td>4.95462</td>\n",
       "      <td>8.10</td>\n",
       "      <td>45.02</td>\n",
       "      <td>81.493875</td>\n",
       "    </tr>\n",
       "    <tr>\n",
       "      <th>2</th>\n",
       "      <td>309335493</td>\n",
       "      <td>H14.09.056</td>\n",
       "      <td>10557</td>\n",
       "      <td>FWM</td>\n",
       "      <td>0.000064</td>\n",
       "      <td>0.003468</td>\n",
       "      <td>0.013787</td>\n",
       "      <td>0.016023</td>\n",
       "      <td>0.001708</td>\n",
       "      <td>0.007365</td>\n",
       "      <td>...</td>\n",
       "      <td>0.80</td>\n",
       "      <td>129.80</td>\n",
       "      <td>0.736100</td>\n",
       "      <td>0.091084</td>\n",
       "      <td>0.54</td>\n",
       "      <td>46.88</td>\n",
       "      <td>5.88409</td>\n",
       "      <td>27.00</td>\n",
       "      <td>15.82</td>\n",
       "      <td>470.734514</td>\n",
       "    </tr>\n",
       "    <tr>\n",
       "      <th>3</th>\n",
       "      <td>326765668</td>\n",
       "      <td>H14.09.081</td>\n",
       "      <td>10557</td>\n",
       "      <td>FWM</td>\n",
       "      <td>0.000049</td>\n",
       "      <td>0.003035</td>\n",
       "      <td>0.001707</td>\n",
       "      <td>0.000137</td>\n",
       "      <td>0.001729</td>\n",
       "      <td>0.004046</td>\n",
       "      <td>...</td>\n",
       "      <td>1.30</td>\n",
       "      <td>15.16</td>\n",
       "      <td>8.995575</td>\n",
       "      <td>0.054076</td>\n",
       "      <td>0.76</td>\n",
       "      <td>10.34</td>\n",
       "      <td>16.13524</td>\n",
       "      <td>8.06</td>\n",
       "      <td>24.22</td>\n",
       "      <td>568.368571</td>\n",
       "    </tr>\n",
       "    <tr>\n",
       "      <th>4</th>\n",
       "      <td>326765668</td>\n",
       "      <td>H14.09.081</td>\n",
       "      <td>10235</td>\n",
       "      <td>TCx</td>\n",
       "      <td>0.000080</td>\n",
       "      <td>0.002088</td>\n",
       "      <td>0.004489</td>\n",
       "      <td>0.000062</td>\n",
       "      <td>0.001513</td>\n",
       "      <td>0.015809</td>\n",
       "      <td>...</td>\n",
       "      <td>0.00</td>\n",
       "      <td>17.90</td>\n",
       "      <td>95.931000</td>\n",
       "      <td>0.030000</td>\n",
       "      <td>1.22</td>\n",
       "      <td>21.38</td>\n",
       "      <td>0.03000</td>\n",
       "      <td>10.52</td>\n",
       "      <td>23.72</td>\n",
       "      <td>438.863263</td>\n",
       "    </tr>\n",
       "  </tbody>\n",
       "</table>\n",
       "<p>5 rows × 33 columns</p>\n",
       "</div>"
      ],
      "text/plain": [
       "    donor_id  donor_name  structure_id structure_acronym  ihc_a_syn  \\\n",
       "0  309335467  H14.09.030         10557               FWM   0.000078   \n",
       "1  309335480  H14.09.043         10208               PCx   0.000063   \n",
       "2  309335493  H14.09.056         10557               FWM   0.000064   \n",
       "3  326765668  H14.09.081         10557               FWM   0.000049   \n",
       "4  326765668  H14.09.081         10235               TCx   0.000080   \n",
       "\n",
       "   ihc_tau2_ffpe  ihc_at8_ffpe   ihc_at8  ihc_ptdp_43_ffpe  ihc_a_beta_ffpe  \\\n",
       "0       0.002358      0.001137  0.000110          0.001259         0.008335   \n",
       "1       0.002762      0.001272  0.000164          0.002354         0.005047   \n",
       "2       0.003468      0.013787  0.016023          0.001708         0.007365   \n",
       "3       0.003035      0.001707  0.000137          0.001729         0.004046   \n",
       "4       0.002088      0.004489  0.000062          0.001513         0.015809   \n",
       "\n",
       "   ...  il_4_pg_per_mg  rantes_pg_per_mg  ab40_pg_per_mg  a_syn_pg_per_mg  \\\n",
       "0  ...            2.68             15.99        0.736100         0.122288   \n",
       "1  ...            3.02             24.04        0.669094         0.111962   \n",
       "2  ...            0.80            129.80        0.736100         0.091084   \n",
       "3  ...            1.30             15.16        8.995575         0.054076   \n",
       "4  ...            0.00             17.90       95.931000         0.030000   \n",
       "\n",
       "   ifn_g_pg_per_mg  mcp_1_pg_per_mg  bdnf_pg_per_mg  mip_1a_pg_per_mg  \\\n",
       "0             1.47            20.78         5.03736              9.38   \n",
       "1             1.44            40.40         4.95462              8.10   \n",
       "2             0.54            46.88         5.88409             27.00   \n",
       "3             0.76            10.34        16.13524              8.06   \n",
       "4             1.22            21.38         0.03000             10.52   \n",
       "\n",
       "   il_7_pg_per_mg  ab42_pg_per_mg  \n",
       "0           11.78      523.292251  \n",
       "1           45.02       81.493875  \n",
       "2           15.82      470.734514  \n",
       "3           24.22      568.368571  \n",
       "4           23.72      438.863263  \n",
       "\n",
       "[5 rows x 33 columns]"
      ]
     },
     "execution_count": 98,
     "metadata": {},
     "output_type": "execute_result"
    }
   ],
   "source": [
    "metrics_df = pd.read_csv('OrigFiles/ProteinAndPathologyQuantifications.csv')\n",
    "donor_df = pd.read_csv('OrigFiles/DonorInformation.csv')  \n",
    "donor_df['act_demented'] = donor_df['act_demented'].apply(lambda x: 1 if x =='Dementia' else 0)\n",
    "metrics_donor_df = pd.merge(metrics_df, donor_df,  how='left', left_on='donor_id', right_on = 'donor_id')\n",
    "\n",
    "metrics_df.head()\n"
   ]
  },
  {
   "cell_type": "code",
   "execution_count": null,
   "id": "personalized-oakland",
   "metadata": {},
   "outputs": [],
   "source": []
  },
  {
   "cell_type": "code",
   "execution_count": 99,
   "id": "homeless-hypothesis",
   "metadata": {},
   "outputs": [
    {
     "name": "stdout",
     "output_type": "stream",
     "text": [
      "(0.6762564820133992, 5.548704562131172e-44)\n"
     ]
    }
   ],
   "source": [
    "tau_df= metrics_df[(metrics_df[\"ihc_at8_ffpe\"].notnull()) & (metrics_df[\"ptau_ng_per_mg\"].notnull())]\n",
    "tau_corr = stats.pearsonr(x= tau_df[\"ihc_at8_ffpe\"],y= tau_df[\"ptau_ng_per_mg\"])\n",
    "print(tau_corr)"
   ]
  },
  {
   "cell_type": "code",
   "execution_count": 100,
   "id": "behavioral-desperate",
   "metadata": {},
   "outputs": [
    {
     "name": "stdout",
     "output_type": "stream",
     "text": [
      "(0.1147351219158445, 0.03665429738103489)\n"
     ]
    }
   ],
   "source": [
    "#None/weak correlation between ab40 and ab42\n",
    "abeta_df= metrics_df[(metrics_df[\"ab40_pg_per_mg\"].notnull()) & (metrics_df[\"ab42_pg_per_mg\"].notnull())]\n",
    "abeta_corr = stats.pearsonr(x= abeta_df[\"ab40_pg_per_mg\"],y= abeta_df[\"ab42_pg_per_mg\"])\n",
    "print(abeta_corr)"
   ]
  },
  {
   "cell_type": "code",
   "execution_count": 101,
   "id": "massive-provision",
   "metadata": {},
   "outputs": [
    {
     "name": "stdout",
     "output_type": "stream",
     "text": [
      "(0.12463665857288304, 0.02312967104874397)\n"
     ]
    }
   ],
   "source": [
    "#None/very weak correlation between ab42 and pTua\n",
    "ab_tau_df= metrics_df[(metrics_df[\"ab42_pg_per_mg\"].notnull()) & (metrics_df[\"ptau_ng_per_mg\"].notnull())]\n",
    "ab_tau_corr = stats.pearsonr(x= ab_tau_df[\"ab42_pg_per_mg\"],y= ab_tau_df[\"ptau_ng_per_mg\"])\n",
    "print(ab_tau_corr)"
   ]
  },
  {
   "cell_type": "code",
   "execution_count": 140,
   "id": "regulated-lodge",
   "metadata": {},
   "outputs": [
    {
     "name": "stdout",
     "output_type": "stream",
     "text": [
      "(0.3287971049505127, 2.2742501348784835e-10)\n",
      "[['Overall', 0.3287971049505127]]\n"
     ]
    }
   ],
   "source": [
    "ab_tau_corrs=[] \n",
    "#weak correlation between ab42(Aβ IHC) and pTua(at8)\n",
    "ab_tau_df= metrics_df[(metrics_df[\"ihc_a_beta_ffpe\"].notnull()) & (metrics_df[\"ihc_at8_ffpe\"].notnull())]\n",
    "ab_tau_corr = stats.pearsonr(x= ab_tau_df[\"ihc_a_beta_ffpe\"],y= ab_tau_df[\"ihc_at8_ffpe\"])\n",
    "ab_tau_corrs.append(['Overall', ab_tau_corr[0]])\n",
    "print(ab_tau_corr)\n",
    "print(ab_tau_corrs)\n"
   ]
  },
  {
   "cell_type": "markdown",
   "id": "australian-infrastructure",
   "metadata": {},
   "source": [
    "### Explore Aβ and pTau correlations in different brain regions"
   ]
  },
  {
   "cell_type": "code",
   "execution_count": 141,
   "id": "backed-queens",
   "metadata": {},
   "outputs": [
    {
     "name": "stdout",
     "output_type": "stream",
     "text": [
      "HIP (0.4639123218403715, 1.1351962794404712e-05)\n",
      "TCx (0.4891760015391139, 7.499201489625886e-07)\n",
      "PCx (0.4593489353182052, 5.955701824652233e-06)\n",
      "FWM (0.03124349919486403, 0.768761231650275)\n",
      "[['Overall', 0.3287971049505127], ['HIP', 0.4639123218403715], ['TCx', 0.4891760015391139], ['PCx', 0.4593489353182052], ['FWM', 0.03124349919486403]]\n"
     ]
    }
   ],
   "source": [
    "\n",
    "for region in ['HIP','TCx', 'PCx','FWM' ]:\n",
    "    ab_tau_df= metrics_df[(metrics_df[\"structure_acronym\"]==region) &(metrics_df[\"ihc_a_beta_ffpe\"].notnull()) & (metrics_df[\"ihc_at8_ffpe\"].notnull())]\n",
    "    ab_tau_corr = stats.pearsonr(x= ab_tau_df[\"ihc_a_beta_ffpe\"],y= ab_tau_df[\"ihc_at8_ffpe\"])\n",
    "    print(region, ab_tau_corr)\n",
    "    ab_tau_corrs.append([region, ab_tau_corr[0]])\n",
    "\n",
    "print(ab_tau_corrs)"
   ]
  },
  {
   "cell_type": "code",
   "execution_count": 137,
   "id": "constant-ratio",
   "metadata": {},
   "outputs": [
    {
     "name": "stdout",
     "output_type": "stream",
     "text": [
      "0 (-0.21321875709450047, 0.581755517734284)\n",
      "1 (0.06276706765610571, 0.716104162061927)\n",
      "2 (0.12116246687569136, 0.42787219371227564)\n",
      "3 (0.07834357995072493, 0.4504584077065122)\n",
      "4 (0.08520821434522405, 0.5362240240458942)\n",
      "5 (0.31979592567212367, 0.01840862167233609)\n",
      "6 (0.379977503938324, 0.0027483041076459044)\n",
      "[[0, -0.21321875709450047], [1, 0.06276706765610571], [2, 0.12116246687569136], [3, 0.07834357995072493], [4, 0.08520821434522405], [5, 0.31979592567212367], [6, 0.379977503938324]]\n"
     ]
    }
   ],
   "source": [
    "ab_tau_braak_corrs=[]\n",
    "metrics_donor_df['braak'] = metrics_donor_df['braak'].astype('Int64')\n",
    "for stage in range(0, 7):\n",
    "    ab_tau_df= metrics_donor_df[(metrics_donor_df[\"braak\"]==stage) &(metrics_donor_df[\"ihc_a_beta_ffpe\"].notnull()) & (metrics_donor_df[\"ihc_at8_ffpe\"].notnull())]\n",
    "    ab_tau_corr = stats.pearsonr(x= ab_tau_df[\"ihc_a_beta_ffpe\"],y= ab_tau_df[\"ihc_at8_ffpe\"])\n",
    "    print(stage, ab_tau_corr)\n",
    "    ab_tau_braak_corrs.append([stage, ab_tau_corr[0]])\n",
    "\n",
    "print(ab_tau_braak_corrs)"
   ]
  },
  {
   "cell_type": "code",
   "execution_count": 146,
   "id": "urban-creation",
   "metadata": {},
   "outputs": [
    {
     "data": {
      "image/png": "[encoded data removed]",
      "text/plain": [
       "<Figure size 720x288 with 2 Axes>"
      ]
     },
     "metadata": {
      "needs_background": "light"
     },
     "output_type": "display_data"
    }
   ],
   "source": [
    "ab_tau_corr_df=pd.DataFrame(ab_tau_corrs)\n",
    "ab_tau_corr_df.columns =['region', 'corr']\n",
    "#print(ab_tau_corr_df)\n",
    "ab_tau_braak_corr_df=pd.DataFrame(ab_tau_braak_corrs)\n",
    "ab_tau_braak_corr_df.columns =['braak', 'corr']\n",
    "#print(ab_tau_braak_corr_df)\n",
    "\n",
    "fig, axs = plt.subplots(1,2,figsize=(10,4))\n",
    "\n",
    "sns.barplot(x = 'region', y = 'corr', ax=axs[0],  data = ab_tau_corr_df)\n",
    "axs[0].set_title(\"Aβ and pTau Correlation in different brain regions\")\n",
    "\n",
    "sns.barplot(x = 'braak', y = 'corr', ax=axs[1],  data = ab_tau_braak_corr_df)\n",
    "axs[1].set_title(\"Aβ and pTau Correlation for different Braak Stage\")\n",
    "fig.tight_layout()"
   ]
  },
  {
   "cell_type": "markdown",
   "id": "spread-homework",
   "metadata": {},
   "source": [
    "### loop through all columns of donor and metrics tables, find variables are moderate/strong correlated."
   ]
  },
  {
   "cell_type": "code",
   "execution_count": 105,
   "id": "suited-instrument",
   "metadata": {},
   "outputs": [
    {
     "data": {
      "text/html": [
       "<div>\n",
       "<style scoped>\n",
       "    .dataframe tbody tr th:only-of-type {\n",
       "        vertical-align: middle;\n",
       "    }\n",
       "\n",
       "    .dataframe tbody tr th {\n",
       "        vertical-align: top;\n",
       "    }\n",
       "\n",
       "    .dataframe thead th {\n",
       "        text-align: right;\n",
       "    }\n",
       "</style>\n",
       "<table border=\"1\" class=\"dataframe\">\n",
       "  <thead>\n",
       "    <tr style=\"text-align: right;\">\n",
       "      <th></th>\n",
       "      <th>donor_id</th>\n",
       "      <th>name</th>\n",
       "      <th>age</th>\n",
       "      <th>sex</th>\n",
       "      <th>apo_e4_allele</th>\n",
       "      <th>education_years</th>\n",
       "      <th>age_at_first_tbi</th>\n",
       "      <th>longest_loc_duration</th>\n",
       "      <th>cerad</th>\n",
       "      <th>num_tbi_w_loc</th>\n",
       "      <th>dsm_iv_clinical_diagnosis</th>\n",
       "      <th>control_set</th>\n",
       "      <th>nincds_arda_diagnosis</th>\n",
       "      <th>ever_tbi_w_loc</th>\n",
       "      <th>race</th>\n",
       "      <th>hispanic</th>\n",
       "      <th>act_demented</th>\n",
       "      <th>braak</th>\n",
       "      <th>nia_reagan</th>\n",
       "    </tr>\n",
       "  </thead>\n",
       "  <tbody>\n",
       "    <tr>\n",
       "      <th>0</th>\n",
       "      <td>326765665</td>\n",
       "      <td>0</td>\n",
       "      <td>0</td>\n",
       "      <td>0</td>\n",
       "      <td>0</td>\n",
       "      <td>16</td>\n",
       "      <td>0</td>\n",
       "      <td>0</td>\n",
       "      <td>0</td>\n",
       "      <td>0</td>\n",
       "      <td>0</td>\n",
       "      <td>31</td>\n",
       "      <td>0</td>\n",
       "      <td>0</td>\n",
       "      <td>0</td>\n",
       "      <td>0</td>\n",
       "      <td>0</td>\n",
       "      <td>1</td>\n",
       "      <td>1</td>\n",
       "    </tr>\n",
       "    <tr>\n",
       "      <th>1</th>\n",
       "      <td>326765656</td>\n",
       "      <td>1</td>\n",
       "      <td>1</td>\n",
       "      <td>0</td>\n",
       "      <td>0</td>\n",
       "      <td>17</td>\n",
       "      <td>12</td>\n",
       "      <td>1</td>\n",
       "      <td>2</td>\n",
       "      <td>1</td>\n",
       "      <td>0</td>\n",
       "      <td>26</td>\n",
       "      <td>0</td>\n",
       "      <td>1</td>\n",
       "      <td>0</td>\n",
       "      <td>0</td>\n",
       "      <td>0</td>\n",
       "      <td>5</td>\n",
       "      <td>2</td>\n",
       "    </tr>\n",
       "    <tr>\n",
       "      <th>2</th>\n",
       "      <td>326765654</td>\n",
       "      <td>2</td>\n",
       "      <td>2</td>\n",
       "      <td>0</td>\n",
       "      <td>1</td>\n",
       "      <td>10</td>\n",
       "      <td>72</td>\n",
       "      <td>2</td>\n",
       "      <td>3</td>\n",
       "      <td>1</td>\n",
       "      <td>1</td>\n",
       "      <td>25</td>\n",
       "      <td>1</td>\n",
       "      <td>1</td>\n",
       "      <td>0</td>\n",
       "      <td>0</td>\n",
       "      <td>1</td>\n",
       "      <td>4</td>\n",
       "      <td>2</td>\n",
       "    </tr>\n",
       "    <tr>\n",
       "      <th>3</th>\n",
       "      <td>467056391</td>\n",
       "      <td>3</td>\n",
       "      <td>3</td>\n",
       "      <td>1</td>\n",
       "      <td>0</td>\n",
       "      <td>11</td>\n",
       "      <td>87</td>\n",
       "      <td>2</td>\n",
       "      <td>0</td>\n",
       "      <td>1</td>\n",
       "      <td>0</td>\n",
       "      <td>52</td>\n",
       "      <td>0</td>\n",
       "      <td>1</td>\n",
       "      <td>0</td>\n",
       "      <td>0</td>\n",
       "      <td>0</td>\n",
       "      <td>4</td>\n",
       "      <td>0</td>\n",
       "    </tr>\n",
       "    <tr>\n",
       "      <th>4</th>\n",
       "      <td>309335447</td>\n",
       "      <td>4</td>\n",
       "      <td>4</td>\n",
       "      <td>0</td>\n",
       "      <td>1</td>\n",
       "      <td>16</td>\n",
       "      <td>0</td>\n",
       "      <td>0</td>\n",
       "      <td>3</td>\n",
       "      <td>0</td>\n",
       "      <td>2</td>\n",
       "      <td>28</td>\n",
       "      <td>2</td>\n",
       "      <td>0</td>\n",
       "      <td>0</td>\n",
       "      <td>0</td>\n",
       "      <td>1</td>\n",
       "      <td>4</td>\n",
       "      <td>2</td>\n",
       "    </tr>\n",
       "  </tbody>\n",
       "</table>\n",
       "</div>"
      ],
      "text/plain": [
       "    donor_id  name  age  sex  apo_e4_allele  education_years  \\\n",
       "0  326765665     0    0    0              0               16   \n",
       "1  326765656     1    1    0              0               17   \n",
       "2  326765654     2    2    0              1               10   \n",
       "3  467056391     3    3    1              0               11   \n",
       "4  309335447     4    4    0              1               16   \n",
       "\n",
       "   age_at_first_tbi  longest_loc_duration  cerad  num_tbi_w_loc  \\\n",
       "0                 0                     0      0              0   \n",
       "1                12                     1      2              1   \n",
       "2                72                     2      3              1   \n",
       "3                87                     2      0              1   \n",
       "4                 0                     0      3              0   \n",
       "\n",
       "   dsm_iv_clinical_diagnosis  control_set  nincds_arda_diagnosis  \\\n",
       "0                          0           31                      0   \n",
       "1                          0           26                      0   \n",
       "2                          1           25                      1   \n",
       "3                          0           52                      0   \n",
       "4                          2           28                      2   \n",
       "\n",
       "   ever_tbi_w_loc  race  hispanic  act_demented  braak  nia_reagan  \n",
       "0               0     0         0             0      1           1  \n",
       "1               1     0         0             0      5           2  \n",
       "2               1     0         0             1      4           2  \n",
       "3               1     0         0             0      4           0  \n",
       "4               0     0         0             1      4           2  "
      ]
     },
     "execution_count": 105,
     "metadata": {},
     "output_type": "execute_result"
    }
   ],
   "source": [
    "cat_columns = donor_df.select_dtypes(['object']).columns\n",
    "#convert all categorical variables to numeric\n",
    "donor_df[cat_columns] = donor_df[cat_columns].apply(lambda x: pd.factorize(x)[0])\n",
    "donor_df.head()"
   ]
  },
  {
   "cell_type": "code",
   "execution_count": 106,
   "id": "amber-karaoke",
   "metadata": {},
   "outputs": [
    {
     "name": "stdout",
     "output_type": "stream",
     "text": [
      "cerad ihc_at8_ffpe (0.4051938717678685, 1.070412109310059e-15)\n",
      "cerad ihc_a_beta_ffpe (0.41425476591610755, 3.7453000033977836e-16)\n",
      "cerad ihc_a_beta (0.4282266479796276, 3.033327119843467e-18)\n",
      "cerad ab42_pg_per_mg (0.62761583510749, 9.168185977691922e-38)\n",
      "braak ihc_at8_ffpe (0.46283597247734437, 1.4493218343289927e-20)\n",
      "braak ihc_at8 (0.40707494982252806, 1.76313216296573e-16)\n",
      "braak ab42_pg_per_mg (0.4601637171500878, 8.39844096934779e-19)\n",
      "nia_reagan ihc_at8_ffpe (0.4447881629417397, 6.114732311924984e-19)\n",
      "nia_reagan ihc_a_beta (0.40142194431413386, 4.977938941768262e-16)\n",
      "nia_reagan ab42_pg_per_mg (0.5838724552630605, 9.994088309422352e-32)\n"
     ]
    }
   ],
   "source": [
    "#correlation of metrics_df every column with dementia\n",
    "metrics_cols = metrics_df.columns[4:]\n",
    "donor_cols = donor_df.columns[4:]\n",
    "for d_col in donor_cols:\n",
    "    for m_col in metrics_cols:\n",
    "        m_d_df= metrics_donor_df[(metrics_donor_df[d_col].notnull()) & (metrics_donor_df[m_col].notnull())]\n",
    "        m_d_corr = stats.pearsonr(x= m_d_df[d_col],y= m_d_df[m_col])\n",
    "        if abs(m_d_corr[0])>0.40:\n",
    "            print(d_col, m_col, m_d_corr)"
   ]
  },
  {
   "cell_type": "code",
   "execution_count": 114,
   "id": "requested-routine",
   "metadata": {},
   "outputs": [
    {
     "name": "stdout",
     "output_type": "stream",
     "text": [
      "ihc_tau2_ffpe ihc_at8_ffpe (0.6590651516197381, 1.7946500954329812e-45)\n",
      "ihc_tau2_ffpe ihc_at8 (0.6763469776309124, 6.194998312549917e-49)\n",
      "ihc_tau2_ffpe ptau_ng_per_mg (0.6051738508732878, 5.91011639310331e-33)\n",
      "ihc_tau2_ffpe ptau_over_tau_ratio (0.6203267614330228, 2.3464917514500706e-34)\n",
      "ihc_at8_ffpe ihc_tau2_ffpe (0.6590651516197381, 1.7946500954329812e-45)\n",
      "ihc_at8_ffpe ihc_at8 (0.77535788009529, 1.183813658071359e-73)\n",
      "ihc_at8_ffpe ptau_ng_per_mg (0.6762564820133992, 5.548704562131172e-44)\n",
      "ihc_at8_ffpe ptau_over_tau_ratio (0.6435910981454245, 5.352925620697561e-38)\n",
      "ihc_at8 ihc_tau2_ffpe (0.6763469776309124, 6.194998312549917e-49)\n",
      "ihc_at8 ihc_at8_ffpe (0.77535788009529, 1.183813658071359e-73)\n",
      "ihc_at8 ptau_ng_per_mg (0.7591503209995857, 1.6755552261915065e-63)\n",
      "ihc_at8 ptau_over_tau_ratio (0.7548415599456922, 2.6570988241358383e-61)\n",
      "ihc_a_beta_ffpe ihc_a_beta (0.6735514732864205, 2.874132651546675e-48)\n",
      "ihc_a_beta ihc_a_beta_ffpe (0.6735514732864205, 2.874132651546675e-48)\n",
      "ihc_a_beta ab42_pg_per_mg (0.509985620997814, 2.218812742971769e-23)\n",
      "ptau_ng_per_mg ihc_tau2_ffpe (0.6051738508732878, 5.91011639310331e-33)\n",
      "ptau_ng_per_mg ihc_at8_ffpe (0.6762564820133992, 5.548704562131172e-44)\n",
      "ptau_ng_per_mg ihc_at8 (0.7591503209995857, 1.6755552261915065e-63)\n",
      "ptau_ng_per_mg tnf_a_pg_per_mg (0.536274213275884, 8.079391576046293e-26)\n",
      "ab42_over_ab40_ratio ab42_pg_per_mg (0.5368603608901384, 8.29595251547566e-26)\n",
      "tnf_a_pg_per_mg ptau_ng_per_mg (0.536274213275884, 8.079391576046293e-26)\n",
      "tnf_a_pg_per_mg il_6_pg_per_mg (0.5923977918147859, 7.850358210606607e-33)\n",
      "tnf_a_pg_per_mg il_1b_pg_per_mg (0.5604390832904198, 7.496974586160234e-29)\n",
      "tnf_a_pg_per_mg il_7_pg_per_mg (-0.5224444724299804, 1.1999885589799829e-24)\n",
      "il_6_pg_per_mg tnf_a_pg_per_mg (0.5923977918147859, 7.850358210606607e-33)\n",
      "il_1b_pg_per_mg tnf_a_pg_per_mg (0.5604390832904198, 7.496974586160234e-29)\n",
      "ptau_over_tau_ratio ihc_tau2_ffpe (0.6203267614330228, 2.3464917514500706e-34)\n",
      "ptau_over_tau_ratio ihc_at8_ffpe (0.6435910981454245, 5.352925620697561e-38)\n",
      "ptau_over_tau_ratio ihc_at8 (0.7548415599456922, 2.6570988241358383e-61)\n",
      "il_7_pg_per_mg tnf_a_pg_per_mg (-0.5224444724299804, 1.1999885589799829e-24)\n",
      "ab42_pg_per_mg ihc_a_beta (0.509985620997814, 2.218812742971769e-23)\n",
      "ab42_pg_per_mg ab42_over_ab40_ratio (0.5368603608901384, 8.29595251547566e-26)\n"
     ]
    }
   ],
   "source": [
    "for d_col in metrics_cols:\n",
    "    for m_col in metrics_cols:\n",
    "        m_d_df= metrics_donor_df[(metrics_donor_df[d_col].notnull()) & (metrics_donor_df[m_col].notnull())]\n",
    "        m_d_corr = stats.pearsonr(x= m_d_df[d_col],y= m_d_df[m_col])\n",
    "        if ((abs(m_d_corr[0])>0.50) & (m_d_corr[0]<0.95)):\n",
    "            print(d_col, m_col, m_d_corr)"
   ]
  },
  {
   "cell_type": "code",
   "execution_count": 148,
   "id": "published-greensboro",
   "metadata": {},
   "outputs": [
    {
     "data": {
      "text/plain": [
       "Text(0.03, 9, 'TCx,PCx')"
      ]
     },
     "execution_count": 148,
     "metadata": {},
     "output_type": "execute_result"
    },
    {
     "data": {
      "image/png": "[encoded data removed]",
      "text/plain": [
       "<Figure size 1080x216 with 3 Axes>"
      ]
     },
     "metadata": {
      "needs_background": "light"
     },
     "output_type": "display_data"
    }
   ],
   "source": [
    "fig, axs = plt.subplots(1,3,figsize=(15,3))\n",
    "\n",
    "sns.kdeplot(data=metrics_df, x=\"ihc_at8_ffpe\",  hue=\"structure_acronym\", ax=axs[0], palette='pastel', legend=False)\n",
    "axs[0].set_title(\"AT8\")\n",
    "axs[0].set_xlabel(\"% area covered by stain\")\n",
    "axs[0].legend(title=\"Region\",loc='upper right', labels=['HIP','TCx', 'PCx','FWM' ])\n",
    "\n",
    "axs[0].annotate('HIP', xy =(0.03, 11),  arrowprops = dict(facecolor ='red',  shrink = 0.05))\n",
    "\n",
    "sns.kdeplot(data=metrics_df, x=\"ihc_tau2_ffpe\",  hue=\"structure_acronym\", ax=axs[1], palette='pastel', legend=False)\n",
    "axs[1].set_title(\"Tau2\")\n",
    "axs[1].set_xlabel(\"% area covered by stain\")\n",
    "axs[1].legend(title=\"Region\",loc='upper right', labels=['HIP','TCx', 'PCx','FWM' ])\n",
    "axs[1].annotate('HIP', xy =(0.015, 15),  arrowprops = dict(facecolor ='red'))\n",
    "\n",
    "sns.kdeplot(data=metrics_df, x=\"ihc_a_beta_ffpe\",  hue=\"structure_acronym\", ax=axs[2], palette='pastel', legend=False)\n",
    "axs[2].set_title(\"Aβ\")\n",
    "axs[2].set_xlabel(\"% area covered by stain\")\n",
    "axs[2].legend(title=\"Region\",loc='upper right', labels=['HIP','TCx', 'PCx','FWM' ])\n",
    "axs[2].annotate('TCx,PCx', xy =(0.03, 9), arrowprops = dict(facecolor ='orange',  shrink = 0.05))\n"
   ]
  },
  {
   "cell_type": "code",
   "execution_count": 129,
   "id": "political-fruit",
   "metadata": {},
   "outputs": [
    {
     "name": "stdout",
     "output_type": "stream",
     "text": [
      "0 (-0.21321875709450047, 0.581755517734284)\n",
      "1 (0.06276706765610571, 0.716104162061927)\n",
      "2 (0.12116246687569136, 0.42787219371227564)\n",
      "3 (0.07834357995072493, 0.4504584077065122)\n",
      "4 (0.08520821434522405, 0.5362240240458942)\n",
      "5 (0.31979592567212367, 0.01840862167233609)\n",
      "6 (0.379977503938324, 0.0027483041076459044)\n",
      "[[0, -0.21321875709450047], [1, 0.06276706765610571], [2, 0.12116246687569136], [3, 0.07834357995072493], [4, 0.08520821434522405], [5, 0.31979592567212367], [6, 0.379977503938324]]\n"
     ]
    }
   ],
   "source": []
  },
  {
   "cell_type": "code",
   "execution_count": 115,
   "id": "future-influence",
   "metadata": {},
   "outputs": [
    {
     "name": "stdout",
     "output_type": "stream",
     "text": [
      "(284, 51)\n"
     ]
    }
   ],
   "source": [
    "# we removed the FWM sample for the Aβ and ptau analysis for different braak stage\n",
    "sample_nofwm_df = metrics_donor_df[metrics_donor_df['structure_acronym']!='FWM']\n",
    "print(sample_nofwm_df.shape)\n"
   ]
  },
  {
   "cell_type": "code",
   "execution_count": 131,
   "id": "convertible-letters",
   "metadata": {},
   "outputs": [
    {
     "data": {
      "text/plain": [
       "1    109\n",
       "2     95\n",
       "3     94\n",
       "0     79\n",
       "Name: cerad, dtype: int64"
      ]
     },
     "execution_count": 131,
     "metadata": {},
     "output_type": "execute_result"
    }
   ],
   "source": [
    "metrics_donor_df['cerad'].value_counts()"
   ]
  },
  {
   "cell_type": "code",
   "execution_count": 117,
   "id": "portable-valuation",
   "metadata": {},
   "outputs": [],
   "source": [
    "sample_nofwm_df['braak'] = sample_nofwm_df['braak'].astype('Int64')\n",
    "braak0 = sample_nofwm_df['ihc_a_beta'][(sample_nofwm_df['braak']>=0) & (sample_nofwm_df['braak']<=2)].reset_index(drop=True)\n",
    "braak1 = sample_nofwm_df['ihc_a_beta'][(sample_nofwm_df['braak']>=3) & (sample_nofwm_df['braak']<=4)].reset_index(drop=True)\n",
    "braak2 = sample_nofwm_df['ihc_a_beta'][(sample_nofwm_df['braak']>=5) & (sample_nofwm_df['braak']<=6)].reset_index(drop=True)\n",
    "#braak_df=pd.concat([braak0, braak1, braak2],axis=1).astype('Int64')\n",
    "braak_df=pd.concat([braak0, braak1, braak2],axis=1)\n",
    "braak_df.columns=['0-2', '3-4', '5-6']\n",
    "braak_melt_df = pd.melt(braak_df)\n",
    "braak_melt_df= braak_melt_df.dropna()\n",
    "braak_melt_df= braak_melt_df.dropna()\n",
    "braak_melt_df.columns=['Braak Stage', 'Aβ']"
   ]
  },
  {
   "cell_type": "code",
   "execution_count": 122,
   "id": "delayed-mouth",
   "metadata": {},
   "outputs": [],
   "source": [
    "sample_nofwm_df['braak'] = sample_nofwm_df['braak'].astype('Int64')\n",
    "braak_list =[]\n",
    "for i in range(0, 7):\n",
    "    braak_list.append(sample_nofwm_df['ihc_a_beta'][sample_nofwm_df['braak']==i].reset_index(drop=True))\n",
    "\n",
    "braak_df=pd.concat(braak_list,axis=1)\n",
    "braak_df.columns=['0', '1', '2', '3', '4', '5', '6']\n",
    "braak_melt_df = pd.melt(braak_df)\n",
    "braak_melt_df= braak_melt_df.dropna()\n",
    "braak_melt_df= braak_melt_df.dropna()\n",
    "braak_melt_df.columns=['Braak Stage', 'Aβ']"
   ]
  },
  {
   "cell_type": "code",
   "execution_count": 123,
   "id": "horizontal-spyware",
   "metadata": {},
   "outputs": [
    {
     "data": {
      "text/html": [
       "<div>\n",
       "<style scoped>\n",
       "    .dataframe tbody tr th:only-of-type {\n",
       "        vertical-align: middle;\n",
       "    }\n",
       "\n",
       "    .dataframe tbody tr th {\n",
       "        vertical-align: top;\n",
       "    }\n",
       "\n",
       "    .dataframe thead th {\n",
       "        text-align: right;\n",
       "    }\n",
       "</style>\n",
       "<table border=\"1\" class=\"dataframe\">\n",
       "  <thead>\n",
       "    <tr style=\"text-align: right;\">\n",
       "      <th></th>\n",
       "      <th>Braak Stage</th>\n",
       "      <th>Aβ</th>\n",
       "    </tr>\n",
       "  </thead>\n",
       "  <tbody>\n",
       "    <tr>\n",
       "      <th>0</th>\n",
       "      <td>0</td>\n",
       "      <td>0.008108</td>\n",
       "    </tr>\n",
       "    <tr>\n",
       "      <th>1</th>\n",
       "      <td>0</td>\n",
       "      <td>0.005797</td>\n",
       "    </tr>\n",
       "    <tr>\n",
       "      <th>2</th>\n",
       "      <td>0</td>\n",
       "      <td>0.006305</td>\n",
       "    </tr>\n",
       "    <tr>\n",
       "      <th>3</th>\n",
       "      <td>0</td>\n",
       "      <td>0.001745</td>\n",
       "    </tr>\n",
       "    <tr>\n",
       "      <th>4</th>\n",
       "      <td>0</td>\n",
       "      <td>0.004187</td>\n",
       "    </tr>\n",
       "  </tbody>\n",
       "</table>\n",
       "</div>"
      ],
      "text/plain": [
       "  Braak Stage        Aβ\n",
       "0           0  0.008108\n",
       "1           0  0.005797\n",
       "2           0  0.006305\n",
       "3           0  0.001745\n",
       "4           0  0.004187"
      ]
     },
     "execution_count": 123,
     "metadata": {},
     "output_type": "execute_result"
    }
   ],
   "source": [
    "braak_melt_df.head()"
   ]
  },
  {
   "cell_type": "code",
   "execution_count": 124,
   "id": "noble-makeup",
   "metadata": {},
   "outputs": [
    {
     "data": {
      "text/plain": [
       "<AxesSubplot:title={'center':'Age and CERAD Score'}, xlabel='Braak Stage', ylabel='Aβ'>"
      ]
     },
     "execution_count": 124,
     "metadata": {},
     "output_type": "execute_result"
    },
    {
     "data": {
      "image/png": "[encoded data removed]",
      "text/plain": [
       "<Figure size 432x288 with 1 Axes>"
      ]
     },
     "metadata": {
      "needs_background": "light"
     },
     "output_type": "display_data"
    }
   ],
   "source": [
    "sns.boxplot(x='Braak Stage', y='Aβ', data=braak_melt_df).set(title='Aβ and Braak Stage')\n",
    "sns.swarmplot(x='Braak Stage', y='Aβ', data=braak_melt_df,color=\".25\")"
   ]
  },
  {
   "cell_type": "code",
   "execution_count": 126,
   "id": "altered-cloud",
   "metadata": {},
   "outputs": [],
   "source": [
    "sample_nofwm_df['braak'] = sample_nofwm_df['braak'].astype('Int64')\n",
    "braak_list =[]\n",
    "for i in range(0, 7):\n",
    "    braak_list.append(sample_nofwm_df['ihc_at8_ffpe'][sample_nofwm_df['braak']==i].reset_index(drop=True))\n",
    "\n",
    "braak_df=pd.concat(braak_list,axis=1)\n",
    "braak_df.columns=['0', '1', '2', '3', '4', '5', '6']\n",
    "braak_melt_df = pd.melt(braak_df)\n",
    "braak_melt_df= braak_melt_df.dropna()\n",
    "braak_melt_df= braak_melt_df.dropna()\n",
    "braak_melt_df.columns=['Braak Stage', 'pTau']"
   ]
  },
  {
   "cell_type": "code",
   "execution_count": 127,
   "id": "severe-letter",
   "metadata": {},
   "outputs": [
    {
     "data": {
      "text/plain": [
       "<AxesSubplot:title={'center':'pTau and Braak Stage'}, xlabel='Braak Stage', ylabel='pTau'>"
      ]
     },
     "execution_count": 127,
     "metadata": {},
     "output_type": "execute_result"
    },
    {
     "data": {
      "image/png": "[encoded data removed]",
      "text/plain": [
       "<Figure size 432x288 with 1 Axes>"
      ]
     },
     "metadata": {
      "needs_background": "light"
     },
     "output_type": "display_data"
    }
   ],
   "source": [
    "sns.boxplot(x='Braak Stage', y='pTau', data=braak_melt_df).set(title='pTau and Braak Stage')\n",
    "sns.swarmplot(x='Braak Stage', y='pTau', data=braak_melt_df,color=\".25\")"
   ]
  }
 ],
 "metadata": {
  "kernelspec": {
   "display_name": "Python 3",
   "language": "python",
   "name": "python3"
  },
  "language_info": {
   "codemirror_mode": {
    "name": "ipython",
    "version": 3
   },
   "file_extension": ".py",
   "mimetype": "text/x-python",
   "name": "python",
   "nbconvert_exporter": "python",
   "pygments_lexer": "ipython3",
   "version": "3.7.10"
  }
 },
 "nbformat": 4,
 "nbformat_minor": 5
}
